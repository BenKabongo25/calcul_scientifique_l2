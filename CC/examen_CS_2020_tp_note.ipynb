{
 "cells": [
  {
   "cell_type": "markdown",
   "metadata": {
    "id": "D_BBHFb4bbyd"
   },
   "source": [
    "\n",
    "TP noté de Calcul scientifique\n",
    " =====\n",
    " \n",
    "1 - Consignes \n",
    "-----\n",
    "\n",
    "L'examen sera à réaliser en python 3. Les questions du sujet doivent être résolues uniquement avec des fonctions des librairies `numpy`, `scipy` et `matplotlib` vu durant l'année.\n",
    "\t\n",
    "**<span style=\"color:red\"> À part si cela est précisé, vous ne devez pas utiliser directement de boucle (`for`,`while`) ou de branchement conditionnel (`if`).</span>.**\n",
    "\n",
    "**<span style=\"color:red\"> \n",
    "Vous rendrez ce notebook en fin d'examen sur la plateforme ecampus sans en changer le nom. Les réponses sont à mettre dans le présent notebook et non dans un autre fichier.</span>**\n",
    "\n",
    "**<span style=\"color:red\"> \n",
    "Aucun envoi par mail ou soumission en retard ne sera accepté.</span>**\n",
    "\n",
    "**<span style=\"color:red\"> \n",
    "Vous devez avant tous avoir un code fonctionnel, ne perdez pas de temps sur des considérations esthétiques et supprimez les codes non fonctionnels.</span>**\n",
    "\n",
    "**<span style=\"color:red\"> \n",
    "Vous ne devez pas créer de nouveau bloque et vous répondrez aux questions uniquement dans les zones prévues.</span>**\n",
    "\n",
    "Gestion du temps:\n",
    "* Vous avez 2h30 pour traiter 30 questions, soit une moyenne de 5mn par question.\n",
    "* Il y a des questions faciles auquelles vous repondrez en moins de 5mn.\n",
    "* Vous pouvez toujours laisser une question en suspens pour y revenir après.\n",
    "* Ne restez jamais bloquez plus de 7 mn sur une même question, allez à la question suivante.\n",
    "* Le sujet n'est pas ordonné par difficulté. Des questions plus difficiles peuvent se trouver en début de sujet et des questions plus simple après.\n",
    "    \n",
    "\n",
    "2 - Sujet\n",
    "-----    \n",
    "    \n"
   ]
  },
  {
   "cell_type": "markdown",
   "metadata": {
    "deletable": false,
    "editable": false,
    "id": "VqT544Jmbbyd"
   },
   "source": [
    "Nom: 21911598\n",
    "Prénom: Kabongo\n",
    "Numéro d'étudiant: Buzangu Ben"
   ]
  },
  {
   "cell_type": "markdown",
   "metadata": {
    "id": "FTM-fSn7bbyd"
   },
   "source": [
    "Zone de commentaires:\n",
    "\n",
    "Quelques rectifications\n",
    "\n",
    "Nom: KABONGO BUZANGU\n",
    "Prénom: Ben\n",
    "Numéro d'étudiant: 21911598"
   ]
  },
  {
   "cell_type": "markdown",
   "metadata": {
    "id": "_pJxzHVdbbyd"
   },
   "source": [
    "Vous pouvez écrire dans ce bloc des commentaires ou des remarques que vous pourriez avoir sur le sujet."
   ]
  },
  {
   "cell_type": "code",
   "execution_count": 81,
   "metadata": {
    "id": "BlSW1_b1bbyd"
   },
   "outputs": [],
   "source": [
    "\n",
    "import numpy as np\n",
    "\n",
    "import scipy as sc\n",
    "import scipy.optimize\n",
    "import scipy.spatial\n",
    "\n",
    "import matplotlib.pyplot as plt\n"
   ]
  },
  {
   "cell_type": "markdown",
   "metadata": {
    "deletable": false,
    "editable": false,
    "id": "saleB30Ibbye",
    "nbgrader": {
     "cell_type": "markdown",
     "checksum": "cc4c638fab1559dd55ededfde6573c05",
     "grade": false,
     "grade_id": "question18-q16-_cell-8334b71218df9984",
     "locked": true,
     "schema_version": 3,
     "solution": false,
     "task": false
    }
   },
   "source": [
    "Question 1: \n",
    "Écrivez une fonction qui prend en entrée une matrice et un vecteur, et qui retourne `False` si le vecteur correspond à une ligne de la matrice et `True` sinon.\n",
    "\n",
    "<span style=\"color:teal\">Exemple :</span> <br>\n",
    "Avec la matrice\n",
    "`[[7 2 1 6 9]\n",
    " [7 2 2 2 5]\n",
    " [9 5 6 8 7]\n",
    " [7 5 8 5 6]\n",
    " [9 8 7 3 8]]`\n",
    "\n",
    "et le vecteur `[7 2 1 6 9]`\n",
    "\n",
    "la fonction renvoie `False`\n"
   ]
  },
  {
   "cell_type": "code",
   "execution_count": 20,
   "metadata": {
    "deletable": false,
    "id": "mCr6azk4bbye",
    "nbgrader": {
     "cell_type": "code",
     "checksum": "1b141f6148caf5260b41b3b6fca61155",
     "grade": false,
     "grade_id": "question18-q16-_cell-87220c2a8c45d101",
     "locked": false,
     "schema_version": 3,
     "solution": true,
     "task": false
    }
   },
   "outputs": [],
   "source": [
    "def estDans(matrice,vecteur):\n",
    "    return not np.any(a=v,axis=0)"
   ]
  },
  {
   "cell_type": "code",
   "execution_count": 5,
   "metadata": {
    "colab": {
     "base_uri": "https://localhost:8080/"
    },
    "deletable": false,
    "editable": false,
    "id": "EEvRiKNJbbye",
    "nbgrader": {
     "cell_type": "code",
     "checksum": "8135d6647ec69fe6d84739eb93cb0d26",
     "grade": true,
     "grade_id": "question18-q16-_cell-a188aa01ddea9ff2",
     "locked": true,
     "points": 1,
     "schema_version": 3,
     "solution": false,
     "task": false
    },
    "outputId": "f165ba57-1416-4c02-e5bd-e479e17154ca"
   },
   "outputs": [
    {
     "name": "stdout",
     "output_type": "stream",
     "text": [
      "\u001b[92m Ok - Tous les tests sont validés.\u001b[00m\n"
     ]
    }
   ],
   "source": [
    "\n",
    "# Ce bloc permet de valider votre code. Vous ne devez pas le modifier.  \n",
    "try:\n",
    "\n",
    "    m = np.array([[7, 2, 1, 6, 9], [7, 2, 2, 2, 5], [9, 5, 6, 8, 7], [7, 5, 8, 5, 6], [9, 8, 7, 3, 8]])\n",
    "    v = np.array([7, 2, 1, 6, 9])\n",
    "    res = estDans(m,v)\n",
    "    np.testing.assert_almost_equal(res,False)\n",
    "    \n",
    "except Exception as e: \n",
    "    print(\"\\033[91m {}\\033[00m\" .format('KO - Au moins un test n\\'est pas validé')) \n",
    "    print('Information sur le test non valide:')\n",
    "    print(e)\n",
    "    raise e\n",
    "else:\n",
    "    print(\"\\033[92m {}\\033[00m\" .format('Ok - Tous les tests sont validés.')) \n"
   ]
  },
  {
   "cell_type": "markdown",
   "metadata": {
    "deletable": false,
    "editable": false,
    "id": "SrSxTDxvbbye",
    "nbgrader": {
     "cell_type": "markdown",
     "checksum": "c900a10d22b8d6ad99e57d860327f9cc",
     "grade": false,
     "grade_id": "question0-q1-_cell-8f3eded82852469d",
     "locked": true,
     "schema_version": 3,
     "solution": false,
     "task": false
    }
   },
   "source": [
    "Question 2: \n",
    "Ecrivez une fonction retournant la distance euclidienne la plus petite entre un point `p` et un ensemble `X` de points 2D. Les points sont stockés selon les lignes de la matrice `X`.\n"
   ]
  },
  {
   "cell_type": "code",
   "execution_count": 6,
   "metadata": {
    "deletable": false,
    "id": "GY8uNri6bbye",
    "nbgrader": {
     "cell_type": "code",
     "checksum": "ad19ded6402834134e28d5598e6867af",
     "grade": false,
     "grade_id": "question0-q1-_cell-20f8a710837837b5",
     "locked": false,
     "schema_version": 3,
     "solution": true,
     "task": false
    }
   },
   "outputs": [],
   "source": [
    "def min_distance(p,X):\n",
    "    return np.min(np.sqrt(np.sum(X**2,axis=1) - 2*X.dot(p) + np.sum(p**2) ))"
   ]
  },
  {
   "cell_type": "code",
   "execution_count": 7,
   "metadata": {
    "colab": {
     "base_uri": "https://localhost:8080/"
    },
    "deletable": false,
    "editable": false,
    "id": "wRp5fgxqbbye",
    "nbgrader": {
     "cell_type": "code",
     "checksum": "d27382b7e3093a51d77f781ff50e63f5",
     "grade": true,
     "grade_id": "question0-q1-_cell-8f76222e05fb0207",
     "locked": true,
     "points": 1,
     "schema_version": 3,
     "solution": false,
     "task": false
    },
    "outputId": "8aaa2eef-b84d-4927-a03b-3829b011b07d"
   },
   "outputs": [
    {
     "name": "stdout",
     "output_type": "stream",
     "text": [
      "\u001b[92m Ok - Tous les tests sont validés.\u001b[00m\n"
     ]
    }
   ],
   "source": [
    "\n",
    "# Ce bloc permet de valider votre code. Vous ne devez pas le modifier.  \n",
    "try:\n",
    "\n",
    "    p = np.array([0.43718925632666106, -0.16007956324805628])\n",
    "    x = np.array([[-0.12168902450411667, -0.5394451571500718], [0.062282075048442964, 0.09985518939664506], [0.4945864639210429, -0.8463616034871249], [-0.6362184935117312, 0.10471985228572889], [-0.8401575510816721, -0.49641650420890904], [-0.09648573159840557, -0.22788254739859082], [0.9819569322465622, -0.7575372917426557], [0.40659853377633803, -0.9213306207503078], [0.21385186877274576, 0.6131983751226295], [-0.8795009356696699, 0.7098399967732394], [0.8736296408626256, -0.7918039241215138], [-0.6078786077714295, 0.43107510812697125], [-0.541800068510494, -0.18527042071076272], [0.7294154720646853, -0.18196624905095016], [0.09679974673549485, -0.9305203674371996], [0.5563842186485657, 0.10085204543283921], [0.08232832896024012, 0.2419094452445436], [0.0032645071704384687, 0.9084792798656025], [-0.18809084813968657, -0.5759636571039863], [-0.9623291315942908, 0.1802925491250753], [0.9391326296837734, -0.825370294711909], [0.02315324876120539, 0.4184103775315018], [-0.03607778360737868, -0.42071684564938594], [0.8932208825675725, 0.7435936819793278], [0.5028359699503737, 0.5619389605113616], [-0.8524298558158201, -0.23288506361436756], [-0.12011121513280076, 0.5562034612023681], [0.26624700758819797, -0.015474978626704328], [-0.5253025627402443, -0.7017111484992005], [-0.9808010648393735, 0.8588646464258782], [-0.25330137596781466, -0.6542462152757007], [-0.9710346969290267, 0.6567156597613408], [-0.5426886661216259, -0.8999752561788112], [-0.8923312672238752, -0.7559443434370487], [0.8407516081581101, -0.7256018034149654], [-0.5510117831028889, -0.009631892825113786], [0.26253735034322756, -0.9573963894228616], [0.03722352622700309, 0.2439034467054677], [-0.34592507590561916, -0.3964860142111497], [0.8665828808599754, 0.11055084000044002], [0.815086124825519, 0.03771654201829766], [-0.8638543221050348, -0.7984651962900591], [-0.12056253148730356, -0.9898997044939497], [0.13808171767499178, -0.42147556389134944], [0.43068874825099557, -0.05478698621825373], [-0.3755578309715555, 0.8433034029013666], [-0.7065650798301812, 0.31057392848656185], [-0.5188482463095148, -0.7370947042371061], [0.40105346089600147, 0.9873551416569231], [0.20102697857839624, 0.09151221834589363], [0.9546178462439514, -0.25750365560413613], [0.38117792933099537, 0.8906880178566134], [0.5713766276537329, 0.8115589967765267], [-0.8017356501889195, 0.9385803887854742], [0.9398333563564283, -0.3739788818814491], [-0.7723878295226487, 0.15379874529213722], [-0.7545947683196117, 0.5230987193561241], [0.8427765870280428, 0.22037345101214179], [-0.14112960940023456, 0.59403600705216], [-0.39978052205975034, -0.7444337501533036], [0.7155635114834316, -0.8235621602171102], [-0.728960442613698, -0.2610238273802452], [-0.640281638206103, 0.4902323927450465], [0.7657835600046587, 0.7359647484732921], [0.5303521306088126, -0.9263612391133753], [0.26533295339107577, -0.6305255997334138], [0.6633037721482786, -0.5178634285452339], [-0.9753589647861087, 0.14762071527828335], [-0.7501145827401556, -0.40742396765074607], [0.35207124540432844, 0.6499520270661852], [-0.739854836020637, -0.5866159719026367], [0.9599677923397312, -0.17481135481021526], [0.619875636046523, 0.233749535143575], [-0.928064295195171, 0.7257490388931569], [-0.31194722236998484, 0.3658685757461446], [-0.7853954606174456, 0.015604489326384918], [0.4646536014778544, -0.4167939844613433], [-0.5588187094752728, 0.7533915507695097], [0.31146340991651633, -0.43657375133801657], [-0.9003630108888543, -0.8078327597743704], [-0.5374220982693867, -0.5304912825513923], [-0.3876711978933767, -0.1739343536190905], [0.577567034708109, -0.7891135685145905], [-0.26094490773454826, 0.07996869632211312], [0.9717118753469065, 0.7278401486982129], [0.14285551049173284, 0.5960328635023082], [0.6167292722757984, -0.5468212608920837], [-0.5465975774634377, 0.7455486964364628], [0.2973232737797036, -0.6064111691260243], [-0.3462647374252259, 0.22860397968257118], [0.818468768273187, 0.18333757769496728], [-0.5379352239494202, -0.7240146173095479], [0.34363248356629716, 0.6240809867305948], [0.9990205540283814, -0.9764239223326121], [0.55403709757053, -0.64227691157578], [0.5292612517313988, -0.45247464552222816], [0.5641603815438436, -0.10620216833671758], [0.5813256462213203, 0.9767617785432468], [0.9124236996973205, -0.4692556584587513], [0.8803152577644096, -0.25420206091890885]])\n",
    "    \n",
    "    np.testing.assert_almost_equal(min_distance(p,x),0.10549304897868246,err_msg='Distance fausse sur l exemple de référence.')\n",
    "    \n",
    "except Exception as e: \n",
    "    print(\"\\033[91m {}\\033[00m\" .format('KO - Au moins un test n\\'est pas validé')) \n",
    "    print('Information sur le test non valide:')\n",
    "    print(e)\n",
    "    raise e\n",
    "else:\n",
    "    print(\"\\033[92m {}\\033[00m\" .format('Ok - Tous les tests sont validés.')) \n"
   ]
  },
  {
   "cell_type": "markdown",
   "metadata": {
    "deletable": false,
    "editable": false,
    "id": "cq1Jlip6bbye",
    "nbgrader": {
     "cell_type": "markdown",
     "checksum": "1b20597e325347085320864a66ffe5d3",
     "grade": false,
     "grade_id": "question2-q3-_cell-2046028ee2082353",
     "locked": true,
     "schema_version": 3,
     "solution": false,
     "task": false
    }
   },
   "source": [
    "Question 3: \n",
    "Ecrivez une fonction échangeant la colonne 6 avec la colonne 8 d'un tableau numpy. Vous pouvez utiliser `np.arange` pour cette question.\n"
   ]
  },
  {
   "cell_type": "code",
   "execution_count": 21,
   "metadata": {
    "deletable": false,
    "id": "EWmu8z80bbye",
    "nbgrader": {
     "cell_type": "code",
     "checksum": "48edb36bb9a3c315a4723186ff21cfab",
     "grade": false,
     "grade_id": "question2-q3-_cell-1b8411aa67cfbb81",
     "locked": false,
     "schema_version": 3,
     "solution": true,
     "task": false
    }
   },
   "outputs": [],
   "source": [
    "def echanger(x):\n",
    "    x[:,[6,8]]=x[:,[8,6]]\n",
    "    return x"
   ]
  },
  {
   "cell_type": "code",
   "execution_count": 22,
   "metadata": {
    "colab": {
     "base_uri": "https://localhost:8080/"
    },
    "deletable": false,
    "editable": false,
    "id": "OwFSQWyFbbye",
    "nbgrader": {
     "cell_type": "code",
     "checksum": "73eb5913c06af27c06887e1484d349a4",
     "grade": true,
     "grade_id": "question2-q3-_cell-4f0702e7c21c3d83",
     "locked": true,
     "points": 1,
     "schema_version": 3,
     "solution": false,
     "task": false
    },
    "outputId": "1effa223-eb05-414f-d7d0-28bec983bda0"
   },
   "outputs": [
    {
     "name": "stdout",
     "output_type": "stream",
     "text": [
      "\u001b[92m Ok - Tous les tests sont validés.\u001b[00m\n"
     ]
    }
   ],
   "source": [
    "\n",
    "# Ce bloc permet de valider votre code. Vous ne devez pas le modifier.  \n",
    "try:\n",
    "\n",
    "    M = np.array([[1, 8, 7, 8, 9, 0, 8, 7, 7, 4, 5, 0, 7, 4, 8], [5, 2, 6, 1, 5, 9, 6, 1, 2, 8, 7, 6, 8, 3, 5], [0, 4, 9, 6, 1, 0, 5, 5, 4, 9, 4, 0, 7, 5, 0], [2, 6, 3, 4, 3, 5, 1, 4, 6, 9, 8, 0, 2, 3, 5], [1, 3, 6, 3, 1, 9, 2, 8, 2, 7, 9, 6, 3, 8, 4], [6, 6, 1, 3, 9, 6, 0, 8, 4, 4, 5, 2, 3, 9, 7], [7, 2, 3, 3, 5, 8, 7, 4, 3, 8, 9, 4, 4, 2, 7], [3, 8, 2, 5, 8, 8, 5, 3, 7, 8, 4, 5, 5, 7, 7], [9, 4, 5, 2, 0, 1, 2, 9, 7, 3, 1, 4, 6, 9, 3], [2, 1, 0, 4, 7, 2, 4, 3, 3, 4, 8, 9, 0, 9, 2], [5, 8, 0, 5, 6, 5, 9, 4, 0, 0, 1, 4, 1, 8, 3], [9, 7, 6, 5, 0, 4, 2, 3, 7, 3, 1, 1, 7, 8, 9], [3, 1, 9, 8, 2, 5, 8, 5, 1, 7, 9, 3, 6, 7, 2], [4, 9, 8, 4, 4, 5, 3, 4, 5, 5, 5, 2, 2, 9, 1]])\n",
    "    res = np.array([[1, 8, 7, 8, 9, 0, 7, 7, 8, 4, 5, 0, 7, 4, 8], [5, 2, 6, 1, 5, 9, 2, 1, 6, 8, 7, 6, 8, 3, 5], [0, 4, 9, 6, 1, 0, 4, 5, 5, 9, 4, 0, 7, 5, 0], [2, 6, 3, 4, 3, 5, 6, 4, 1, 9, 8, 0, 2, 3, 5], [1, 3, 6, 3, 1, 9, 2, 8, 2, 7, 9, 6, 3, 8, 4], [6, 6, 1, 3, 9, 6, 4, 8, 0, 4, 5, 2, 3, 9, 7], [7, 2, 3, 3, 5, 8, 3, 4, 7, 8, 9, 4, 4, 2, 7], [3, 8, 2, 5, 8, 8, 7, 3, 5, 8, 4, 5, 5, 7, 7], [9, 4, 5, 2, 0, 1, 7, 9, 2, 3, 1, 4, 6, 9, 3], [2, 1, 0, 4, 7, 2, 3, 3, 4, 4, 8, 9, 0, 9, 2], [5, 8, 0, 5, 6, 5, 0, 4, 9, 0, 1, 4, 1, 8, 3], [9, 7, 6, 5, 0, 4, 7, 3, 2, 3, 1, 1, 7, 8, 9], [3, 1, 9, 8, 2, 5, 1, 5, 8, 7, 9, 3, 6, 7, 2], [4, 9, 8, 4, 4, 5, 5, 4, 3, 5, 5, 2, 2, 9, 1]])\n",
    "    np.testing.assert_array_equal(echanger(M),res,err_msg='Exemple de reférence non fonctionnel.')\n",
    "    \n",
    "except Exception as e: \n",
    "    print(\"\\033[91m {}\\033[00m\" .format('KO - Au moins un test n\\'est pas validé')) \n",
    "    print('Information sur le test non valide:')\n",
    "    print(e)\n",
    "    raise e\n",
    "else:\n",
    "    print(\"\\033[92m {}\\033[00m\" .format('Ok - Tous les tests sont validés.')) \n"
   ]
  },
  {
   "cell_type": "markdown",
   "metadata": {
    "deletable": false,
    "editable": false,
    "id": "C7_mq8Cvbbye",
    "nbgrader": {
     "cell_type": "markdown",
     "checksum": "26c4d2240483d723d6c5ae79e5bbe010",
     "grade": false,
     "grade_id": "question19-q17-_cell-89fb9836433e8449",
     "locked": true,
     "schema_version": 3,
     "solution": false,
     "task": false
    }
   },
   "source": [
    "Question 4: \n",
    "Écrivez une fonction qui construit et renvoie la matrice `m` suivante:\n",
    "\n",
    "`[[  33   34   35 ... 1854 1855 1856]\n",
    " [  33   34   35 ... 1854 1855 1856]\n",
    " [1856 1855 1854 ...   35   34   33]\n",
    " [1856 1855 1854 ...   35   34   33]\n",
    " [  33   34   35 ... 1854 1855 1856]]`\n",
    "\n",
    "Attention, toutes les lignes ne sont pas identiques. Pour chaque ligne, les valeurs sont soit décrémentés soit incrémentés de un entre chaque colonne.\n"
   ]
  },
  {
   "cell_type": "code",
   "execution_count": 23,
   "metadata": {
    "colab": {
     "base_uri": "https://localhost:8080/"
    },
    "deletable": false,
    "id": "B7bscy_ibbye",
    "nbgrader": {
     "cell_type": "code",
     "checksum": "b86181a2865a600a7404c502be07b796",
     "grade": false,
     "grade_id": "question19-q17-_cell-10fb26b8f16f7b6",
     "locked": false,
     "schema_version": 3,
     "solution": true,
     "task": false
    },
    "outputId": "697f8677-00bc-4893-c3d6-c25262155077"
   },
   "outputs": [
    {
     "name": "stdout",
     "output_type": "stream",
     "text": [
      "[[  33   34   35 ... 1854 1855 1856]\n",
      " [  33   34   35 ... 1854 1855 1856]\n",
      " [1856 1855 1854 ...   35   34   33]\n",
      " [1856 1855 1854 ...   35   34   33]\n",
      " [  33   34   35 ... 1854 1855 1856]]\n"
     ]
    }
   ],
   "source": [
    "def construireMatrice():\n",
    "    m = np.concatenate(([np.arange(33,1857)], \n",
    "                      [np.arange(33,1857)], \n",
    "                      [np.arange(1856,32,-1)], \n",
    "                      [np.arange(1856,32,-1)], \n",
    "                      [np.arange(33,1857)]))\n",
    "    return m\n",
    "\n",
    "print(construireMatrice())"
   ]
  },
  {
   "cell_type": "code",
   "execution_count": 11,
   "metadata": {
    "colab": {
     "base_uri": "https://localhost:8080/"
    },
    "deletable": false,
    "editable": false,
    "id": "LZtqIDBDbbye",
    "nbgrader": {
     "cell_type": "code",
     "checksum": "39665645ec8e14804b66efc336ea4d99",
     "grade": true,
     "grade_id": "question19-q17-_cell-7cce2fd26331c340",
     "locked": true,
     "points": 1,
     "schema_version": 3,
     "solution": false,
     "task": false
    },
    "outputId": "493c5018-93b1-4f0d-e04d-b206230d8ac0"
   },
   "outputs": [
    {
     "name": "stdout",
     "output_type": "stream",
     "text": [
      "\u001b[92m Ok - Tous les tests sont validés.\u001b[00m\n"
     ]
    }
   ],
   "source": [
    "\n",
    "# Ce bloc permet de valider votre code. Vous ne devez pas le modifier.  \n",
    "try:\n",
    "\n",
    "    m = construireMatrice()\n",
    "    np.testing.assert_equal(m.size,9120)\n",
    "    np.testing.assert_equal(set(m.flatten()-33),set(np.arange(1824)))\n",
    "    np.testing.assert_equal(np.sum(m-m[2]),0)\n",
    "    \n",
    "except Exception as e: \n",
    "    print(\"\\033[91m {}\\033[00m\" .format('KO - Au moins un test n\\'est pas validé')) \n",
    "    print('Information sur le test non valide:')\n",
    "    print(e)\n",
    "    raise e\n",
    "else:\n",
    "    print(\"\\033[92m {}\\033[00m\" .format('Ok - Tous les tests sont validés.')) \n"
   ]
  },
  {
   "cell_type": "markdown",
   "metadata": {
    "deletable": false,
    "editable": false,
    "id": "_0Zb8P3sbbye",
    "nbgrader": {
     "cell_type": "markdown",
     "checksum": "057f169fabe6442a980ca0065c1d419d",
     "grade": false,
     "grade_id": "question9-q10-_cell-6430447afbe165d8",
     "locked": true,
     "schema_version": 3,
     "solution": false,
     "task": false
    }
   },
   "source": [
    "Question 5: \n",
    "Ecrivez une fonction affichant dans une figure matplotlib la fonction $\\frac{\\left(392 - 28 x\\right) \\cos{\\left(5 x \\right)} - \\pi^{2}}{14 \\left(x - 14\\right)}$ . Vous affichez les valeurs de la fonction pour des abscisses allant de -8 à 8 avec un pas entre chaque valeur d'abscisse de 1e-01. Le rendu attendu est :\n",
    "\n",
    "<img src=\"data:image/png;base64,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\">\n"
   ]
  },
  {
   "cell_type": "code",
   "execution_count": 24,
   "metadata": {
    "colab": {
     "base_uri": "https://localhost:8080/",
     "height": 265
    },
    "deletable": false,
    "id": "hNMpFPribbyg",
    "nbgrader": {
     "cell_type": "code",
     "checksum": "eb9534f0a66887957e2957cab247c43e",
     "grade": false,
     "grade_id": "question9-q10-_cell-2040aee1edd4e8f5",
     "locked": false,
     "schema_version": 3,
     "solution": true,
     "task": false
    },
    "outputId": "85f2561a-dc19-4352-ad9c-6170c4ff34b6"
   },
   "outputs": [
    {
     "data": {
      "image/png": "[encoded data removed]",
      "text/plain": [
       "<Figure size 432x288 with 1 Axes>"
      ]
     },
     "metadata": {},
     "output_type": "display_data"
    }
   ],
   "source": [
    "def f(x):\n",
    "    return ((392-28*x)*np.cos(5*x)-np.pi**2)/(14*(x-14))\n",
    "\n",
    "def plot_fct():\n",
    "    x = np.arange(-8.0,8.0,1e-1)\n",
    "    plt.figure()\n",
    "    plt.plot(x, f(x))\n",
    "    plt.show()\n",
    "\n",
    "plot_fct()"
   ]
  },
  {
   "cell_type": "code",
   "execution_count": 13,
   "metadata": {
    "colab": {
     "base_uri": "https://localhost:8080/",
     "height": 299
    },
    "deletable": false,
    "editable": false,
    "id": "mxdILipBbbyg",
    "nbgrader": {
     "cell_type": "code",
     "checksum": "4899e7fa9dd461c8c1b58a9800974599",
     "grade": true,
     "grade_id": "question9-q10-_cell-e97a55b5cebcbe9e",
     "locked": true,
     "points": 1,
     "schema_version": 3,
     "solution": false,
     "task": false
    },
    "outputId": "ba1b5792-fc72-4420-b8a5-7592529ef636"
   },
   "outputs": [
    {
     "data": {
      "text/plain": [
       "<Figure size 432x288 with 0 Axes>"
      ]
     },
     "metadata": {},
     "output_type": "display_data"
    },
    {
     "data": {
      "image/png": "[encoded data removed]",
      "text/plain": [
       "<Figure size 432x288 with 1 Axes>"
      ]
     },
     "metadata": {},
     "output_type": "display_data"
    },
    {
     "name": "stdout",
     "output_type": "stream",
     "text": [
      "\u001b[92m Ok - Tous les tests sont validés.\u001b[00m\n"
     ]
    }
   ],
   "source": [
    "\n",
    "# Ce bloc permet de valider votre code. Vous ne devez pas le modifier.  \n",
    "try:\n",
    "\n",
    "    plt.clf()\n",
    "    plot_fct()\n",
    "    \n",
    "    \n",
    "except Exception as e: \n",
    "    print(\"\\033[91m {}\\033[00m\" .format('KO - Au moins un test n\\'est pas validé')) \n",
    "    print('Information sur le test non valide:')\n",
    "    print(e)\n",
    "    raise e\n",
    "else:\n",
    "    print(\"\\033[92m {}\\033[00m\" .format('Ok - Tous les tests sont validés.')) \n"
   ]
  },
  {
   "cell_type": "markdown",
   "metadata": {
    "deletable": false,
    "editable": false,
    "id": "pFiK8R6Pbbyg",
    "nbgrader": {
     "cell_type": "markdown",
     "checksum": "99c083efc5a8f8981dd58bf787a4fd64",
     "grade": false,
     "grade_id": "question16-q14-_cell-ab523adfb1794cfc",
     "locked": true,
     "schema_version": 3,
     "solution": false,
     "task": false
    }
   },
   "source": [
    "Question 6: \n",
    "Créez une fonction `random_matrice_normalisee` retournant une matrice aléatoire de taille $(2,7)$ et telle que la somme de chaque ligne vaut 4\n"
   ]
  },
  {
   "cell_type": "code",
   "execution_count": 16,
   "metadata": {
    "deletable": false,
    "id": "F-4DWam2bbyg",
    "nbgrader": {
     "cell_type": "code",
     "checksum": "6101f4db4694bd19f80c2074686062e4",
     "grade": false,
     "grade_id": "question16-q14-_cell-7e8868a16dc30d6",
     "locked": false,
     "schema_version": 3,
     "solution": true,
     "task": false
    }
   },
   "outputs": [
    {
     "name": "stdout",
     "output_type": "stream",
     "text": [
      "[[ 2  2 -2  2 -2  3 -1]\n",
      " [-1  1  0  0  0 -1  5]]\n",
      "8\n"
     ]
    }
   ],
   "source": [
    "def random_matrice_normalisee():\n",
    "    m = np.random.randint(-4, 4, (2, 7))\n",
    "    m[:,-1] = 4-np.sum(m[:,0:-1],axis=1)\n",
    "    return m\n",
    "rmn = random_matrice_normalisee()\n",
    "print(rmn)\n",
    "print(rmn.sum())"
   ]
  },
  {
   "cell_type": "code",
   "execution_count": 17,
   "metadata": {
    "deletable": false,
    "editable": false,
    "id": "pgk_W0N1bbyg",
    "nbgrader": {
     "cell_type": "code",
     "checksum": "34123c57c48f06e7a3ca79cac67cbd52",
     "grade": true,
     "grade_id": "question16-q14-_cell-6e4b2dad90df571d",
     "locked": true,
     "points": 1,
     "schema_version": 3,
     "solution": false,
     "task": false
    }
   },
   "outputs": [
    {
     "name": "stdout",
     "output_type": "stream",
     "text": [
      "\u001b[92m Ok - Tous les tests sont validés.\u001b[00m\n"
     ]
    }
   ],
   "source": [
    "\n",
    "# Ce bloc permet de valider votre code. Vous ne devez pas le modifier.  \n",
    "try:\n",
    "\n",
    "    matriceNormalisee = random_matrice_normalisee()\n",
    "    np.testing.assert_equal(matriceNormalisee.size,14)\n",
    "    np.testing.assert_almost_equal(np.sum(matriceNormalisee),8)\n",
    "    np.testing.assert_equal(np.sum(np.abs(random_matrice_normalisee()-random_matrice_normalisee()))==0,False)\n",
    "    \n",
    "except Exception as e: \n",
    "    print(\"\\033[91m {}\\033[00m\" .format('KO - Au moins un test n\\'est pas validé')) \n",
    "    print('Information sur le test non valide:')\n",
    "    print(e)\n",
    "    raise e\n",
    "else:\n",
    "    print(\"\\033[92m {}\\033[00m\" .format('Ok - Tous les tests sont validés.')) \n"
   ]
  },
  {
   "cell_type": "markdown",
   "metadata": {
    "deletable": false,
    "editable": false,
    "id": "wrsYJC_6bbyg",
    "nbgrader": {
     "cell_type": "markdown",
     "checksum": "1ff4e5fa8f5089208a6f612299b8269a",
     "grade": false,
     "grade_id": "question15-q13-_cell-a9a305dd9f933ac2",
     "locked": true,
     "schema_version": 3,
     "solution": false,
     "task": false
    }
   },
   "source": [
    "Question 7: \n",
    "Écrivez une fonction qui prend en entrée un vecteur et qui ajoute 7 à tous ses éléments strictement plus petits que 4\n"
   ]
  },
  {
   "cell_type": "code",
   "execution_count": 25,
   "metadata": {
    "deletable": false,
    "id": "JxA2_J9fbbyg",
    "nbgrader": {
     "cell_type": "code",
     "checksum": "90cb150d51d1d9ce011dbfac1581a92b",
     "grade": false,
     "grade_id": "question15-q13-_cell-c930c57356485725",
     "locked": false,
     "schema_version": 3,
     "solution": true,
     "task": false
    }
   },
   "outputs": [],
   "source": [
    "def modifier(vecteur):\n",
    "    vecteur[vecteur<4] += 7\n",
    "    return vecteur"
   ]
  },
  {
   "cell_type": "code",
   "execution_count": 19,
   "metadata": {
    "colab": {
     "base_uri": "https://localhost:8080/"
    },
    "deletable": false,
    "editable": false,
    "id": "2paH43Qybbyg",
    "nbgrader": {
     "cell_type": "code",
     "checksum": "c67df17c0435d568564a42b8c1515b6e",
     "grade": true,
     "grade_id": "question15-q13-_cell-af7d3652fcfc83a7",
     "locked": true,
     "points": 1,
     "schema_version": 3,
     "solution": false,
     "task": false
    },
    "outputId": "ec1bbdee-b906-4f4e-d826-5554a84471aa"
   },
   "outputs": [
    {
     "name": "stdout",
     "output_type": "stream",
     "text": [
      "\u001b[92m Ok - Tous les tests sont validés.\u001b[00m\n"
     ]
    }
   ],
   "source": [
    "\n",
    "# Ce bloc permet de valider votre code. Vous ne devez pas le modifier.  \n",
    "try:\n",
    "\n",
    "    v = np.arange(10)\n",
    "    res = modifier(v.copy())\n",
    "    np.testing.assert_equal(res.shape,v.shape)\n",
    "     \n",
    "    \n",
    "except Exception as e: \n",
    "    print(\"\\033[91m {}\\033[00m\" .format('KO - Au moins un test n\\'est pas validé')) \n",
    "    print('Information sur le test non valide:')\n",
    "    print(e)\n",
    "    raise e\n",
    "else:\n",
    "    print(\"\\033[92m {}\\033[00m\" .format('Ok - Tous les tests sont validés.')) \n"
   ]
  },
  {
   "cell_type": "markdown",
   "metadata": {
    "deletable": false,
    "editable": false,
    "id": "WCuLUjwebbyg",
    "nbgrader": {
     "cell_type": "markdown",
     "checksum": "d62757cd9f9c419c0392c284d7c385bc",
     "grade": false,
     "grade_id": "question20-q18-_cell-1187a8467823904b",
     "locked": true,
     "schema_version": 3,
     "solution": false,
     "task": false
    }
   },
   "source": [
    "Question 8: \n",
    "Écrivez une fonction qui construit les deux vecteurs `[5.8 5.5 5.2 4.9 4.6 4.3]` et `[2.  2.5 3.  3.5 4. ]` puis, en utilisant le broadcasting, construire la matrice suivante correspondant à toutes les soustractions entre les valeurs des deux vecteurs.\n",
    "\n",
    "La solution retourne donc la matrice:\n",
    "\n",
    "`[[-3.8 -3.5 -3.2 -2.9 -2.6 -2.3]\n",
    " [-3.3 -3.  -2.7 -2.4 -2.1 -1.8]\n",
    " [-2.8 -2.5 -2.2 -1.9 -1.6 -1.3]\n",
    " [-2.3 -2.  -1.7 -1.4 -1.1 -0.8]\n",
    " [-1.8 -1.5 -1.2 -0.9 -0.6 -0.3]]`\n",
    "\n",
    "\n",
    "Vous n'avez pas le droit d'utiliser la fonction `np.array` pour cette question.\n"
   ]
  },
  {
   "cell_type": "code",
   "execution_count": 27,
   "metadata": {
    "deletable": false,
    "id": "uRiwgTe9bbyg",
    "nbgrader": {
     "cell_type": "code",
     "checksum": "8f31c66f80a0f8d15a401f0301429967",
     "grade": false,
     "grade_id": "question20-q18-_cell-dc12de7904f96f59",
     "locked": false,
     "schema_version": 3,
     "solution": true,
     "task": false
    }
   },
   "outputs": [
    {
     "name": "stdout",
     "output_type": "stream",
     "text": [
      "[5.8 5.5 5.2 4.9 4.6 4.3] [2.  2.5 3.  3.5 4. ]\n"
     ]
    }
   ],
   "source": [
    "def construireMat():\n",
    "    v1 = np.arange(5.8, 4.2, -0.3)\n",
    "    v2 = np.arange(2., 4.1, 0.5)\n",
    "    return np.concatenate((v2-v1, ))\n",
    "    print(v1, v2)\n",
    "    \n",
    "construireMat()"
   ]
  },
  {
   "cell_type": "code",
   "execution_count": null,
   "metadata": {
    "deletable": false,
    "editable": false,
    "id": "PLx_VaNkbbyg",
    "nbgrader": {
     "cell_type": "code",
     "checksum": "d483ab292dc3d732a4751136441afea6",
     "grade": true,
     "grade_id": "question20-q18-_cell-e1c80718e07ab065",
     "locked": true,
     "points": 1,
     "schema_version": 3,
     "solution": false,
     "task": false
    }
   },
   "outputs": [],
   "source": [
    "\n",
    "# Ce bloc permet de valider votre code. Vous ne devez pas le modifier.  \n",
    "try:\n",
    "\n",
    "    \n",
    "    res = construireMat()\n",
    "    np.testing.assert_equal(res.size,30)\n",
    "    np.testing.assert_almost_equal(res.diagonal(),np.array([-3.8, -3.0, -2.2, -1.4000000000000004, -0.6000000000000005]))\n",
    "    np.testing.assert_equal(len(res[0]),6)\n",
    "    \n",
    "except Exception as e: \n",
    "    print(\"\\033[91m {}\\033[00m\" .format('KO - Au moins un test n\\'est pas validé')) \n",
    "    print('Information sur le test non valide:')\n",
    "    print(e)\n",
    "    raise e\n",
    "else:\n",
    "    print(\"\\033[92m {}\\033[00m\" .format('Ok - Tous les tests sont validés.')) \n"
   ]
  },
  {
   "cell_type": "markdown",
   "metadata": {
    "deletable": false,
    "editable": false,
    "id": "E3WCxvOsbbyg",
    "nbgrader": {
     "cell_type": "markdown",
     "checksum": "75ec986564adf782a100c118e72cb9cd",
     "grade": false,
     "grade_id": "question22-q2-_cell-5d3225a77ec664ef",
     "locked": true,
     "schema_version": 3,
     "solution": false,
     "task": false
    }
   },
   "source": [
    "Question 9: \n",
    "Écrivez une fonction `suppresseColonne` qui prend en entrée une matrice et qui supprime de cette matrice toutes les colonnes qui contiennent la valeur -4\n",
    "\n",
    "<span style=\"color:teal\">Exemple :</span> <br>\n",
    "`[[ 4 18 18 11 -4 10]\n",
    " [ 6 13  3  7 10 -4]]`\n",
    "\n",
    "a pour sortie\n",
    "\n",
    "`[[ 4 18 18 11]\n",
    " [ 6 13  3  7]]`\n"
   ]
  },
  {
   "cell_type": "code",
   "execution_count": 33,
   "metadata": {
    "colab": {
     "base_uri": "https://localhost:8080/"
    },
    "deletable": false,
    "id": "Gq6LMf7Nbbyg",
    "nbgrader": {
     "cell_type": "code",
     "checksum": "9e3b095b691a6addf71cef7143b0c5f0",
     "grade": false,
     "grade_id": "question22-q2-_cell-5b3ab8aab5882cd1",
     "locked": false,
     "schema_version": 3,
     "solution": true,
     "task": false
    },
    "outputId": "f731bd0c-459b-4960-bb80-4bb525bc65a2"
   },
   "outputs": [
    {
     "name": "stdout",
     "output_type": "stream",
     "text": [
      "[[ 4 18 18 11]\n",
      " [ 6 13  3  7]]\n"
     ]
    }
   ],
   "source": [
    "def suppresseColonne(matrice):\n",
    "    pos = np.where(matrice==-4)\n",
    "    return np.delete(matrice, pos[1], axis=1)\n",
    "\n",
    "matrice = np.array([[ 4, 18, 18, 11, -4, 10], [ 6, 13, 3, 7, 10, -4]])\n",
    "print(suppresseColonne(matrice))"
   ]
  },
  {
   "cell_type": "code",
   "execution_count": 34,
   "metadata": {
    "colab": {
     "base_uri": "https://localhost:8080/"
    },
    "deletable": false,
    "editable": false,
    "id": "Y620KhDBbbyg",
    "nbgrader": {
     "cell_type": "code",
     "checksum": "b5e73386f667adf0791670c01dd4ac64",
     "grade": true,
     "grade_id": "question22-q2-_cell-dfd6e7580e6698f2",
     "locked": true,
     "points": 1,
     "schema_version": 3,
     "solution": false,
     "task": false
    },
    "outputId": "1463e0e0-9708-47e4-99ea-684efadc7f69"
   },
   "outputs": [
    {
     "name": "stdout",
     "output_type": "stream",
     "text": [
      "\u001b[92m Ok - Tous les tests sont validés.\u001b[00m\n"
     ]
    }
   ],
   "source": [
    "\n",
    "# Ce bloc permet de valider votre code. Vous ne devez pas le modifier.  \n",
    "try:\n",
    "\n",
    "    mat = np.arange(24)\n",
    "    mat[np.random.randint(24)] = -4\n",
    "    mat[np.random.randint(24)] = -4\n",
    "    mat = mat.reshape((4,-1))\n",
    "    res = suppresseColonne(mat)\n",
    "    np.testing.assert_equal(mat.shape[0],res.shape[0])\n",
    "    \n",
    "except Exception as e: \n",
    "    print(\"\\033[91m {}\\033[00m\" .format('KO - Au moins un test n\\'est pas validé')) \n",
    "    print('Information sur le test non valide:')\n",
    "    print(e)\n",
    "    raise e\n",
    "else:\n",
    "    print(\"\\033[92m {}\\033[00m\" .format('Ok - Tous les tests sont validés.')) \n"
   ]
  },
  {
   "cell_type": "markdown",
   "metadata": {
    "deletable": false,
    "editable": false,
    "id": "CHXBzyvwbbyg",
    "nbgrader": {
     "cell_type": "markdown",
     "checksum": "a7dc29f361e5b8e3caa0971188720a7e",
     "grade": false,
     "grade_id": "question12-q10-_cell-e877e3df16ca5ad",
     "locked": true,
     "schema_version": 3,
     "solution": false,
     "task": false
    }
   },
   "source": [
    "Question 10: \n",
    "Écrire une fonction qui prend en entrée une matrice carrée et un vecteur de même longueur, et qui décrémente chaque colonne de la matrice de ce vecteur. La matrice modifiée est retournée.\n",
    "\n",
    "<span style=\"color:teal\">Exemple :</span> <br>\n",
    "Avec la matrice\n",
    "`[[11 24 10]\n",
    " [20  9 23]\n",
    " [13 16 23]]`\n",
    "\n",
    "et le vecteur`[ 3 18  4]`\n",
    "\n",
    "on obtient :\n",
    "\n",
    "`[[ 8 21  7]\n",
    " [ 2 -9  5]\n",
    " [ 9 12 19]]`\n"
   ]
  },
  {
   "cell_type": "code",
   "execution_count": 82,
   "metadata": {
    "colab": {
     "base_uri": "https://localhost:8080/"
    },
    "deletable": false,
    "id": "u1EJhWlRbbyg",
    "nbgrader": {
     "cell_type": "code",
     "checksum": "d9d020ce681bb06767e3a1ea6a66b80c",
     "grade": false,
     "grade_id": "question12-q10-_cell-3f7600488488ad19",
     "locked": false,
     "schema_version": 3,
     "solution": true,
     "task": false
    },
    "outputId": "84ba4381-c782-45ed-b541-69eb74f3215e"
   },
   "outputs": [
    {
     "name": "stdout",
     "output_type": "stream",
     "text": [
      "[[ 8 21  7]\n",
      " [ 2 -9  5]\n",
      " [ 9 12 19]]\n"
     ]
    }
   ],
   "source": [
    "def modifieMatrice(matrice,vecteur):\n",
    "    return matrice - vecteur[np.newaxis,:].T\n",
    "\n",
    "matrice = np.array([[11, 24, 10], [20, 9, 23], [13, 16, 23]])\n",
    "vecteur = np.array([ 3, 18, 4])\n",
    "print(modifieMatrice(matrice, vecteur))"
   ]
  },
  {
   "cell_type": "code",
   "execution_count": 83,
   "metadata": {
    "colab": {
     "base_uri": "https://localhost:8080/"
    },
    "deletable": false,
    "editable": false,
    "id": "MV_jdaa-bbyg",
    "nbgrader": {
     "cell_type": "code",
     "checksum": "0a964d5da396abfeea9e0dd365be5afa",
     "grade": true,
     "grade_id": "question12-q10-_cell-604c189cb3c07aa7",
     "locked": true,
     "points": 1,
     "schema_version": 3,
     "solution": false,
     "task": false
    },
    "outputId": "3b9ca4a5-1710-446a-9b18-e6328b80b2de"
   },
   "outputs": [
    {
     "name": "stdout",
     "output_type": "stream",
     "text": [
      "\u001b[92m Ok - Tous les tests sont validés.\u001b[00m\n"
     ]
    }
   ],
   "source": [
    "\n",
    "# Ce bloc permet de valider votre code. Vous ne devez pas le modifier.  \n",
    "try:\n",
    "\n",
    "    v = np.arange(1,1+3)\n",
    "    m = np.random.randint(1,10,size=(len(v),len(v)))\n",
    "    res = modifieMatrice(m,v)\n",
    "    np.testing.assert_equal(res.shape,m.shape)\n",
    "    m = np.array([[11, 24, 10], [20,  9, 23], [13, 16, 23]])\n",
    "    v = np.array([3, 18, 4])\n",
    "    res = modifieMatrice(m,v)\n",
    "    np.testing.assert_almost_equal(res,np.array([[ 8, 21,  7], [ 2, -9,  5], [ 9, 12, 19]]))\n",
    "    \n",
    "except Exception as e: \n",
    "    print(\"\\033[91m {}\\033[00m\" .format('KO - Au moins un test n\\'est pas validé')) \n",
    "    print('Information sur le test non valide:')\n",
    "    print(e)\n",
    "    raise e\n",
    "else:\n",
    "    print(\"\\033[92m {}\\033[00m\" .format('Ok - Tous les tests sont validés.')) \n"
   ]
  },
  {
   "cell_type": "markdown",
   "metadata": {
    "deletable": false,
    "editable": false,
    "id": "8q6HNF-nbbyg",
    "nbgrader": {
     "cell_type": "markdown",
     "checksum": "a12be8a5f6af017d5d452aa8528444fa",
     "grade": false,
     "grade_id": "question1-q2-_cell-a074c3ffa756ebdc",
     "locked": true,
     "schema_version": 3,
     "solution": false,
     "task": false
    }
   },
   "source": [
    "Question 11: \n",
    "Ecrivez une fonction qui retourne le minimum de chaque ligne d'un tableau numpy donné.\n"
   ]
  },
  {
   "cell_type": "code",
   "execution_count": 30,
   "metadata": {
    "deletable": false,
    "id": "WsTo0x54bbyg",
    "nbgrader": {
     "cell_type": "code",
     "checksum": "f9b0614f7d53586cacde6ec4e90bf47a",
     "grade": false,
     "grade_id": "question1-q2-_cell-d7193d847a0f97e9",
     "locked": false,
     "schema_version": 3,
     "solution": true,
     "task": false
    }
   },
   "outputs": [],
   "source": [
    "def min_ligne(X):\n",
    "    return np.min(X,axis=0)"
   ]
  },
  {
   "cell_type": "code",
   "execution_count": 31,
   "metadata": {
    "colab": {
     "base_uri": "https://localhost:8080/"
    },
    "deletable": false,
    "editable": false,
    "id": "JYjDlfmObbyg",
    "nbgrader": {
     "cell_type": "code",
     "checksum": "6113c8f66f8dae0c136ff91967d1c967",
     "grade": true,
     "grade_id": "question1-q2-_cell-beb599e39ffbb82",
     "locked": true,
     "points": 1,
     "schema_version": 3,
     "solution": false,
     "task": false
    },
    "outputId": "e8b3b19a-ee4e-40a7-f2f0-48b3f48030d5"
   },
   "outputs": [
    {
     "name": "stdout",
     "output_type": "stream",
     "text": [
      "\u001b[92m Ok - Tous les tests sont validés.\u001b[00m\n"
     ]
    }
   ],
   "source": [
    "\n",
    "# Ce bloc permet de valider votre code. Vous ne devez pas le modifier.  \n",
    "try:\n",
    "\n",
    "    X = np.array([[0.9540327635570901, 0.19391522749372458, 0.4112281178786832, 0.46489037536834665, 0.391058615536092], [0.7357781361089917, 0.10075128731014238, 0.5043764501861551, 0.72127028816999, 0.45987341367154533], [0.36845748834785463, 0.03826773984564258, 0.02373228070997302, 0.3803181411272347, 0.4335182151018999], [0.20494805447218722, 0.3984489020634048, 0.6067324351601603, 0.21673835168512712, 0.5824488819827454], [0.4681086444568908, 0.11538796465032564, 0.5701680737231547, 0.995824638336332, 0.42909346908561363], [0.3401880750426787, 0.24044557301174363, 0.4155607059203471, 0.3740824505569874, 0.3154346246534002], [0.7499564157234783, 0.9745491038847371, 0.9651966188389614, 0.29968786525226865, 0.47130143239117683], [0.34554621989370005, 0.339414663526177, 0.23742454555551806, 0.08439234098353765, 0.15319788775876386], [0.07344785500512041, 0.4666370434928627, 0.865170177712667, 0.8978355000736554, 0.2570417968040042], [0.21543406015176003, 0.27632304050286094, 0.6435374685433115, 0.4772589472998745, 0.1321289617234106]])\n",
    "    np.testing.assert_array_equal(len(min_ligne(X)),5,err_msg='Problème de dimension')\n",
    "    \n",
    "except Exception as e: \n",
    "    print(\"\\033[91m {}\\033[00m\" .format('KO - Au moins un test n\\'est pas validé')) \n",
    "    print('Information sur le test non valide:')\n",
    "    print(e)\n",
    "    raise e\n",
    "else:\n",
    "    print(\"\\033[92m {}\\033[00m\" .format('Ok - Tous les tests sont validés.')) \n"
   ]
  },
  {
   "cell_type": "markdown",
   "metadata": {
    "deletable": false,
    "editable": false,
    "id": "cSCFCSXgbbyg",
    "nbgrader": {
     "cell_type": "markdown",
     "checksum": "e1269e6821b73086a4b4dbc4779042b1",
     "grade": false,
     "grade_id": "question8-q9-_cell-b0f7ce57f88fe6be",
     "locked": true,
     "schema_version": 3,
     "solution": false,
     "task": false
    }
   },
   "source": [
    "Question 12: \n",
    "Vous avez à votre disposition le détail des notes d'étudiants à chaque question d'un examen dans un tableau numpy (vous ne connaissez apriori pas la taille de ce tableau). Chaque ligne correspond à un étudiant tandis que chaque colonne correspond à une question. La dernire ligne contient le barème de l'examen. Retourner la note de chaque étudiant à l'examen ramené sur 10. Vous devez supprimer la ligne contenant le barème de référence pour ne rendre que la note totale de chaque étudiant. L'ordre des étudiants ne doit pas changer.  \n",
    "\n",
    "Exemple:\n",
    "\n",
    "Pour\n",
    "`[[3 3 3 0 1 2 0]\n",
    " [3 4 0 2 4 0 4]\n",
    " [0 0 4 0 2 4 3]\n",
    " [3 4 4 4 4 4 4]]`\n",
    "\n",
    "La fonction retourne: \n",
    "\n",
    "`[4.44 6.3  4.81]`\n"
   ]
  },
  {
   "cell_type": "code",
   "execution_count": 45,
   "metadata": {
    "colab": {
     "base_uri": "https://localhost:8080/"
    },
    "deletable": false,
    "id": "AK_z2pk7bbyg",
    "nbgrader": {
     "cell_type": "code",
     "checksum": "34d5f6fcf810670e7b8d985658fdd98a",
     "grade": false,
     "grade_id": "question8-q9-_cell-a2b8efaedb91bc69",
     "locked": false,
     "schema_version": 3,
     "solution": true,
     "task": false
    },
    "outputId": "b9823a81-a52c-4434-f205-fe083f00f1a5"
   },
   "outputs": [
    {
     "data": {
      "text/plain": [
       "array([4.44444444, 6.2962963 , 4.81481481])"
      ]
     },
     "execution_count": 45,
     "metadata": {},
     "output_type": "execute_result"
    }
   ],
   "source": [
    "def notes(students):\n",
    "    return 10* np.sum(students[:-1,:], axis=1) / np.sum(students[-1,:])\n",
    "    \n",
    "students = np.array([[3, 3, 3, 0, 1, 2, 0], [3, 4, 0, 2, 4, 0, 4], [0, 0, 4, 0, 2, 4, 3], [3, 4, 4, 4, 4, 4, 4]])\n",
    "notes(students)"
   ]
  },
  {
   "cell_type": "code",
   "execution_count": 46,
   "metadata": {
    "deletable": false,
    "editable": false,
    "id": "SPCL7un4bbyg",
    "nbgrader": {
     "cell_type": "code",
     "checksum": "a350248fd8d07fe8c63a60e41838ea96",
     "grade": true,
     "grade_id": "question8-q9-_cell-e67ba32265d732ae",
     "locked": true,
     "points": 1,
     "schema_version": 3,
     "solution": false,
     "task": false
    }
   },
   "outputs": [
    {
     "name": "stdout",
     "output_type": "stream",
     "text": [
      "\u001b[92m Ok - Tous les tests sont validés.\u001b[00m\n"
     ]
    }
   ],
   "source": [
    "\n",
    "# Ce bloc permet de valider votre code. Vous ne devez pas le modifier.  \n",
    "try:\n",
    "\n",
    "    s = np.array([[3, 3, 3, 0, 1, 2, 0], [3, 4, 0, 2, 4, 0, 4], [0, 0, 4, 0, 2, 4, 3], [3, 4, 4, 4, 4, 4, 4]])\n",
    "    res_correct = np.array([4.444444444444445, 6.296296296296297, 4.814814814814815])\n",
    "    res = notes(np.copy(s))\n",
    "    np.testing.assert_array_equal(res,res_correct,err_msg='Exemple de reférence non fonctionnel.')\n",
    "    \n",
    "    \n",
    "except Exception as e: \n",
    "    print(\"\\033[91m {}\\033[00m\" .format('KO - Au moins un test n\\'est pas validé')) \n",
    "    print('Information sur le test non valide:')\n",
    "    print(e)\n",
    "    raise e\n",
    "else:\n",
    "    print(\"\\033[92m {}\\033[00m\" .format('Ok - Tous les tests sont validés.')) \n"
   ]
  },
  {
   "cell_type": "markdown",
   "metadata": {
    "deletable": false,
    "editable": false,
    "id": "lYu8IIUpbbyg",
    "nbgrader": {
     "cell_type": "markdown",
     "checksum": "89aa6a4045cc0ebd89f930620f321d99",
     "grade": false,
     "grade_id": "question10-q11-_cell-b5029acdd83f6903",
     "locked": true,
     "schema_version": 3,
     "solution": false,
     "task": false
    }
   },
   "source": [
    "Question 13: \n",
    "Ecrivez une fonction qui retourne les valeurs du gradient de la fonction $16 \\left(x^{5} - 1\\right) \\left(y^{2} - 3\\right) \\left(10 x^{4} + 4 y^{3} - 1\\right)$ dans le carré de côté [-2,4]x[-2,4] échantionner avec un pas de 1e-03.\n"
   ]
  },
  {
   "cell_type": "code",
   "execution_count": 48,
   "metadata": {
    "colab": {
     "base_uri": "https://localhost:8080/"
    },
    "deletable": false,
    "id": "MlWtPgOEbbyg",
    "nbgrader": {
     "cell_type": "code",
     "checksum": "31fd6724be6ad08548406c758ccbc65c",
     "grade": false,
     "grade_id": "question10-q11-_cell-ffae9dbd7c3ede5f",
     "locked": false,
     "schema_version": 3,
     "solution": true,
     "task": false
    },
    "outputId": "cc67fa2f-6643-4ad8-aaa5-ce98faef58bf"
   },
   "outputs": [
    {
     "name": "stdout",
     "output_type": "stream",
     "text": [
      "[array([[ 2.42926914e+02,  2.41665059e+02,  2.40408652e+02, ...,\n",
      "        -1.63506981e+05, -1.63878656e+05, -1.64251079e+05],\n",
      "       [ 2.42973672e+02,  2.41711872e+02,  2.40455520e+02, ...,\n",
      "        -1.63469414e+05, -1.63841000e+05, -1.64213334e+05],\n",
      "       [ 2.43066953e+02,  2.41805265e+02,  2.40549021e+02, ...,\n",
      "        -1.63394273e+05, -1.63765682e+05, -1.64137838e+05],\n",
      "       ...,\n",
      "       [-3.06269968e+03, -3.05393599e+03, -3.04519566e+03, ...,\n",
      "         4.06440738e+05,  4.07283426e+05,  4.08127709e+05],\n",
      "       [-3.06541391e+03, -3.05664331e+03, -3.04789609e+03, ...,\n",
      "         4.06602586e+05,  4.07445559e+05,  4.08290129e+05],\n",
      "       [-3.06677152e+03, -3.05799746e+03, -3.04924679e+03, ...,\n",
      "         4.06683525e+05,  4.07526642e+05,  4.08371355e+05]]), array([[3.30821960e+02, 3.30125596e+02, 3.28735379e+02, ...,\n",
      "        9.30924651e+04, 9.32796795e+04, 9.33733688e+04],\n",
      "       [3.29560105e+02, 3.28866465e+02, 3.27481685e+02, ...,\n",
      "        9.27211641e+04, 9.29076307e+04, 9.30009458e+04],\n",
      "       [3.28298361e+02, 3.27607444e+02, 3.26228100e+02, ...,\n",
      "        9.23500404e+04, 9.25357597e+04, 9.26287008e+04],\n",
      "       ...,\n",
      "       [9.06189338e+03, 9.04809060e+03, 9.02052475e+03, ...,\n",
      "        1.28412244e+06, 1.28662798e+06, 1.28788182e+06],\n",
      "       [9.07066052e+03, 9.05684605e+03, 9.02925687e+03, ...,\n",
      "        1.28496448e+06, 1.28747161e+06, 1.28872625e+06],\n",
      "       [9.07943458e+03, 9.06560842e+03, 9.03799587e+03, ...,\n",
      "        1.28580680e+06, 1.28831552e+06, 1.28957097e+06]])]\n"
     ]
    }
   ],
   "source": [
    "def f(x, y):\n",
    "    return 16*(x**5-1)*(y**2-3)*(10*x**4+4*y**3-1)\n",
    "def gradient_fct():\n",
    "    x = np.arange(-2,4,1e-3)\n",
    "    X, Y = np.meshgrid(x,x)\n",
    "    return np.gradient(f(X,Y))\n",
    "print(gradient_fct())"
   ]
  },
  {
   "cell_type": "code",
   "execution_count": 49,
   "metadata": {
    "colab": {
     "base_uri": "https://localhost:8080/"
    },
    "deletable": false,
    "editable": false,
    "id": "WECqnhsvbbyh",
    "nbgrader": {
     "cell_type": "code",
     "checksum": "07dbbb7d6ae9e4121b8b2a0d432068c7",
     "grade": true,
     "grade_id": "question10-q11-_cell-7df16c142d7fd4dd",
     "locked": true,
     "points": 1,
     "schema_version": 3,
     "solution": false,
     "task": false
    },
    "outputId": "9b8b9ba1-7a73-4233-cf6b-9a4bb35c5d02"
   },
   "outputs": [
    {
     "name": "stdout",
     "output_type": "stream",
     "text": [
      "\u001b[92m Ok - Tous les tests sont validés.\u001b[00m\n"
     ]
    }
   ],
   "source": [
    "\n",
    "# Ce bloc permet de valider votre code. Vous ne devez pas le modifier.  \n",
    "try:\n",
    "   \n",
    "    res = gradient_fct()\n",
    "    if ord(str(len(res)))!=50:\n",
    "        raise AssertionError(\"Nombre de sorties incorrectes\")\n",
    "    \n",
    "except Exception as e: \n",
    "    print(\"\\033[91m {}\\033[00m\" .format('KO - Au moins un test n\\'est pas validé')) \n",
    "    print('Information sur le test non valide:')\n",
    "    print(e)\n",
    "    raise e\n",
    "else:\n",
    "    print(\"\\033[92m {}\\033[00m\" .format('Ok - Tous les tests sont validés.')) \n"
   ]
  },
  {
   "cell_type": "markdown",
   "metadata": {
    "deletable": false,
    "editable": false,
    "id": "j9f8eadGbbyh",
    "nbgrader": {
     "cell_type": "markdown",
     "checksum": "4041c43c2fd3cccfe433358c9de7a5bc",
     "grade": false,
     "grade_id": "question28-q8-_cell-11a0cd0c8f340de6",
     "locked": true,
     "schema_version": 3,
     "solution": false,
     "task": false
    }
   },
   "source": [
    "Question 14: \n",
    "Écrire une fonction qui prend en entrée une matrice de taille $(7,6)$ et qui soustrait la ligne $6$ à toutes les lignes de la matrice.\n",
    "\n",
    "<span style=\"color:teal\">Exemple :</span> <br>\n",
    "`[[5 6 6 5 1 5]\n",
    " [4 6 6 3 1 4]\n",
    " [4 6 6 1 6 5]\n",
    " [2 5 3 4 3 1]\n",
    " [4 3 2 1 4 5]\n",
    " [5 5 3 1 6 6]\n",
    " [5 3 2 4 4 3]]`\n",
    "\n",
    "a pour sortie\n",
    "\n",
    "`[[ 0  3  4  1 -3  2]\n",
    " [-1  3  4 -1 -3  1]\n",
    " [-1  3  4 -3  2  2]\n",
    " [-3  2  1  0 -1 -2]\n",
    " [-1  0  0 -3  0  2]\n",
    " [ 0  2  1 -3  2  3]\n",
    " [ 0  0  0  0  0  0]]`\n"
   ]
  },
  {
   "cell_type": "code",
   "execution_count": 50,
   "metadata": {
    "deletable": false,
    "id": "Bh_ykF6qbbyh",
    "nbgrader": {
     "cell_type": "code",
     "checksum": "7e234d7dd84e1e145dd8c3685f0f8668",
     "grade": false,
     "grade_id": "question28-q8-_cell-af651f5e5bde83a6",
     "locked": false,
     "schema_version": 3,
     "solution": true,
     "task": false
    }
   },
   "outputs": [],
   "source": [
    "def soustrait(matrice):\n",
    "    v = matrice[6,:].copy()\n",
    "    return matrice - v.T"
   ]
  },
  {
   "cell_type": "code",
   "execution_count": 51,
   "metadata": {
    "colab": {
     "base_uri": "https://localhost:8080/"
    },
    "deletable": false,
    "editable": false,
    "id": "UsHWorYsbbyh",
    "nbgrader": {
     "cell_type": "code",
     "checksum": "8f6c4bf4a192f1fae864311fa99aeb12",
     "grade": true,
     "grade_id": "question28-q8-_cell-d446e4320b03022b",
     "locked": true,
     "points": 1,
     "schema_version": 3,
     "solution": false,
     "task": false
    },
    "outputId": "1eec558a-58e3-4150-9b89-eb676dd52482"
   },
   "outputs": [
    {
     "name": "stdout",
     "output_type": "stream",
     "text": [
      "\u001b[92m Ok - Tous les tests sont validés.\u001b[00m\n"
     ]
    }
   ],
   "source": [
    "\n",
    "# Ce bloc permet de valider votre code. Vous ne devez pas le modifier.  \n",
    "try:\n",
    "\n",
    "    mat = np.arange(7*6).reshape(-1,6)\n",
    "    res = soustrait(mat)\n",
    "    np.testing.assert_equal(res.shape,mat.shape)\n",
    "    np.testing.assert_almost_equal(np.sum(res),np.sum(mat)-7*np.sum(mat[6]))\n",
    "    \n",
    "except Exception as e: \n",
    "    print(\"\\033[91m {}\\033[00m\" .format('KO - Au moins un test n\\'est pas validé')) \n",
    "    print('Information sur le test non valide:')\n",
    "    print(e)\n",
    "    raise e\n",
    "else:\n",
    "    print(\"\\033[92m {}\\033[00m\" .format('Ok - Tous les tests sont validés.')) \n"
   ]
  },
  {
   "cell_type": "markdown",
   "metadata": {
    "deletable": false,
    "editable": false,
    "id": "_pYkenxebbyh",
    "nbgrader": {
     "cell_type": "markdown",
     "checksum": "e7496fa2422423b11863b626c8da37a7",
     "grade": false,
     "grade_id": "question14-q12-_cell-c8be20dcacc55ad2",
     "locked": true,
     "schema_version": 3,
     "solution": false,
     "task": false
    }
   },
   "source": [
    "Question 15: \n",
    "Écrire une fonction qui prend en entrée un vecteur `vecteur` et une valeur `valeur`, et qui renvoie le vecteur formé des $3$ éléments de `x` les plus éloignés de `v`\n",
    "\n",
    "<span style=\"color:teal\">Exemple :</span> <br>\n",
    "Avec le vecteur `[ 6  7 12 14  0  2  1  0  6 17 19  0  6 13]`\n",
    "et la valeur `8`\n",
    "on obtient `[ 0 17 19]`\n"
   ]
  },
  {
   "cell_type": "code",
   "execution_count": 52,
   "metadata": {
    "deletable": false,
    "id": "L1vt-vU3bbyh",
    "nbgrader": {
     "cell_type": "code",
     "checksum": "2beb36d7f373a17c7652196d7dbbfb2d",
     "grade": false,
     "grade_id": "question14-q12-_cell-f76c8b4880d4b36b",
     "locked": false,
     "schema_version": 3,
     "solution": true,
     "task": false
    }
   },
   "outputs": [],
   "source": [
    "def extraire(vecteur,valeur):\n",
    "    one = np.argmax(np.abs(vecteur-valeur))\n",
    "    v2 = np.delete(vecteur,one)\n",
    "    two = np.argmax(np.abs(v2-valeur))\n",
    "    v3 = np.delete(v2,two)\n",
    "    three = np.argmax(np.abs(v3-valeur))\n",
    "    return np.array(vecteur[[three, two, one]])"
   ]
  },
  {
   "cell_type": "code",
   "execution_count": 53,
   "metadata": {
    "colab": {
     "base_uri": "https://localhost:8080/"
    },
    "deletable": false,
    "editable": false,
    "id": "h33A5lQCbbyh",
    "nbgrader": {
     "cell_type": "code",
     "checksum": "0860849c01a6aef45107753dc0694003",
     "grade": true,
     "grade_id": "question14-q12-_cell-5223f2f037aa248d",
     "locked": true,
     "points": 1,
     "schema_version": 3,
     "solution": false,
     "task": false
    },
    "outputId": "d86c32ad-bb91-4de0-bc03-38f7e55fec3e"
   },
   "outputs": [
    {
     "name": "stdout",
     "output_type": "stream",
     "text": [
      "\u001b[92m Ok - Tous les tests sont validés.\u001b[00m\n"
     ]
    }
   ],
   "source": [
    "\n",
    "# Ce bloc permet de valider votre code. Vous ne devez pas le modifier.  \n",
    "try:\n",
    "\n",
    "    m = np.array([6, 7, 12, 14, 0, 2, 1, 0, 6, 17, 19, 0, 6, 13])\n",
    "    res = extraire(m,8)\n",
    "    np.testing.assert_almost_equal(res,np.array([0, 17, 19]))\n",
    "    \n",
    "    \n",
    "except Exception as e: \n",
    "    print(\"\\033[91m {}\\033[00m\" .format('KO - Au moins un test n\\'est pas validé')) \n",
    "    print('Information sur le test non valide:')\n",
    "    print(e)\n",
    "    raise e\n",
    "else:\n",
    "    print(\"\\033[92m {}\\033[00m\" .format('Ok - Tous les tests sont validés.')) \n"
   ]
  },
  {
   "cell_type": "markdown",
   "metadata": {
    "deletable": false,
    "editable": false,
    "id": "5mgRj1bibbyh",
    "nbgrader": {
     "cell_type": "markdown",
     "checksum": "742427b4adaf12d5788d328daa87e34c",
     "grade": false,
     "grade_id": "question21-q1-_cell-a08c00a7d15d4711",
     "locked": true,
     "schema_version": 3,
     "solution": false,
     "task": false
    }
   },
   "source": [
    "Question 16: Définir un vecteur aléatoire `alea` de taille $20$ et dont les éléments sont des entiers compris entre $-1$ et $25$.\n",
    "\n",
    "<span style='color:teal'> Exemple</span> <br>\n",
    "`[ 0  2  2 22 19 19 11  5  4 12  6  8 23 13 18 16  8 19 16 17]`"
   ]
  },
  {
   "cell_type": "code",
   "execution_count": 55,
   "metadata": {
    "deletable": false,
    "id": "qgaH5NZCbbyh",
    "nbgrader": {
     "cell_type": "code",
     "checksum": "cca9d8febed5ecc8c1f8c35db2d6756a",
     "grade": false,
     "grade_id": "question21-q1-_cell-73321e6f7359267f",
     "locked": false,
     "schema_version": 3,
     "solution": true,
     "task": false
    }
   },
   "outputs": [],
   "source": [
    "def alea_int():\n",
    "    return np.random.randint(-1,25,(20,))"
   ]
  },
  {
   "cell_type": "code",
   "execution_count": 56,
   "metadata": {
    "colab": {
     "base_uri": "https://localhost:8080/"
    },
    "deletable": false,
    "editable": false,
    "id": "5lqaYGy2bbyh",
    "nbgrader": {
     "cell_type": "code",
     "checksum": "647d45c83001a4712d4e163ee8f29b27",
     "grade": true,
     "grade_id": "question21-q1-_cell-5d0407a22d244e36",
     "locked": true,
     "points": 1,
     "schema_version": 3,
     "solution": false,
     "task": false
    },
    "outputId": "ef182151-ded1-4dbc-e4e7-a91465bf5139"
   },
   "outputs": [
    {
     "name": "stdout",
     "output_type": "stream",
     "text": [
      "\u001b[92m Ok - Tous les tests sont validés.\u001b[00m\n"
     ]
    }
   ],
   "source": [
    "\n",
    "# Ce bloc permet de valider votre code. Vous ne devez pas le modifier.  \n",
    "try:\n",
    "   \n",
    "    alea = alea_int()\n",
    "    np.testing.assert_equal(alea.size,20)\n",
    "    np.testing.assert_equal(alea>=-1,True)\n",
    "    np.testing.assert_equal(alea<=25,True)\n",
    "    \n",
    "    \n",
    "except Exception as e: \n",
    "    print(\"\\033[91m {}\\033[00m\" .format('KO - Au moins un test n\\'est pas validé')) \n",
    "    print('Information sur le test non valide:')\n",
    "    print(e)\n",
    "    raise e\n",
    "else:\n",
    "    print(\"\\033[92m {}\\033[00m\" .format('Ok - Tous les tests sont validés.')) \n"
   ]
  },
  {
   "cell_type": "markdown",
   "metadata": {
    "deletable": false,
    "editable": false,
    "id": "Jqk6m5MMbbyh",
    "nbgrader": {
     "cell_type": "markdown",
     "checksum": "fe08799de5499f370bfa321b47395bb3",
     "grade": false,
     "grade_id": "question11-q12-_cell-64a4bfcc4f464aa2",
     "locked": true,
     "schema_version": 3,
     "solution": false,
     "task": false
    }
   },
   "source": [
    "Question 17: \n",
    "Ecrivez une fonction retournant la longueur $l$, la largeur $L$ et la hauteur $h$ d'une boite ayant les propriétés suivantes:\n",
    "- le fond de la boite est un rectangle tel que la longueur $l$ est de $4$ fois la largeur $L$,\n",
    "- son volume est de 3.98,\n",
    "- son aire est minimale.\n",
    "\n",
    "Pour faire cette question, vous utiliserez la fonction `minimize` de la librairie `scipy`.\n"
   ]
  },
  {
   "cell_type": "code",
   "execution_count": 57,
   "metadata": {
    "deletable": false,
    "id": "0BbXxcCSbbyh",
    "nbgrader": {
     "cell_type": "code",
     "checksum": "30634407f4c443c2506a1783b3d7984f",
     "grade": false,
     "grade_id": "question11-q12-_cell-80ef898c8e14a74d",
     "locked": false,
     "schema_version": 3,
     "solution": true,
     "task": false
    }
   },
   "outputs": [],
   "source": [
    "def boite():\n",
    "    pass\n"
   ]
  },
  {
   "cell_type": "code",
   "execution_count": null,
   "metadata": {
    "deletable": false,
    "editable": false,
    "id": "lJnC2h_Tbbyh",
    "nbgrader": {
     "cell_type": "code",
     "checksum": "5695548e231353bd280e7e5b7a025099",
     "grade": true,
     "grade_id": "question11-q12-_cell-c1959116a178bf5d",
     "locked": true,
     "points": 1,
     "schema_version": 3,
     "solution": false,
     "task": false
    }
   },
   "outputs": [],
   "source": [
    "\n",
    "# Ce bloc permet de valider votre code. Vous ne devez pas le modifier.  \n",
    "try:\n",
    "\n",
    "    l,L,h = boite()\n",
    "    v = 4*L**2*h\n",
    "    a = 2*(4+1)*h*L + 2*4*L**2\n",
    "    \n",
    "    if L<0 or h<0 or l<0:\n",
    "        raise AssertionError(\"Longueur, largeur ou hauteur négative.\")\n",
    "           \n",
    "    np.testing.assert_allclose(v,3.98,rtol=1e-05,err_msg='Volume incorrect') \n",
    "    \n",
    "    for i in range(100):\n",
    "        L2 = np.random.rand()*3\n",
    "        h2 = 3.98/ (4*L2**2)\n",
    "        if h2<0:\n",
    "            continue\n",
    "        v2 = 4*L2**2*h2\n",
    "        \n",
    "        a2=2*4*L2*h2 + 2*h2*L2 + 2*4*L2**2\n",
    "        if a2<a and np.abs(a2-a)>1e-5:\n",
    "            raise AssertionError(\"La solution L=\"+str(L2)+\" est meilleur.\"+str(a)+' '+str(a2)+' '+str(v)+' '+str(v2)+' '+str(3.98))\n",
    "    \n",
    "    \n",
    "except Exception as e: \n",
    "    print(\"\\033[91m {}\\033[00m\" .format('KO - Au moins un test n\\'est pas validé')) \n",
    "    print('Information sur le test non valide:')\n",
    "    print(e)\n",
    "    raise e\n",
    "else:\n",
    "    print(\"\\033[92m {}\\033[00m\" .format('Ok - Tous les tests sont validés.')) \n"
   ]
  },
  {
   "cell_type": "markdown",
   "metadata": {
    "deletable": false,
    "editable": false,
    "id": "WofVAU0Vbbyh",
    "nbgrader": {
     "cell_type": "markdown",
     "checksum": "e44a9c9f517fd6976894ecf70289f624",
     "grade": false,
     "grade_id": "question5-q6-_cell-82c8a10ffcb42882",
     "locked": true,
     "schema_version": 3,
     "solution": false,
     "task": false
    }
   },
   "source": [
    "Question 18: \n",
    "Ecrivez une fonction qui remplace les valeurs égales à -2 par 16.\n"
   ]
  },
  {
   "cell_type": "code",
   "execution_count": 84,
   "metadata": {
    "deletable": false,
    "id": "q8_0OvY2bbyh",
    "nbgrader": {
     "cell_type": "code",
     "checksum": "6b086c8bdc11c9f7901d1dcde7f091e5",
     "grade": false,
     "grade_id": "question5-q6-_cell-ec9453fd0c05bc21",
     "locked": false,
     "schema_version": 3,
     "solution": true,
     "task": false
    }
   },
   "outputs": [],
   "source": [
    "def remplace_val(x):\n",
    "    x[x==-2] = 16\n",
    "    return x"
   ]
  },
  {
   "cell_type": "code",
   "execution_count": 85,
   "metadata": {
    "colab": {
     "base_uri": "https://localhost:8080/"
    },
    "deletable": false,
    "editable": false,
    "id": "S4rRs-QHbbyh",
    "nbgrader": {
     "cell_type": "code",
     "checksum": "382f4c8943c21464368fa13b8f2e987e",
     "grade": true,
     "grade_id": "question5-q6-_cell-836c4bd14a5cbe2a",
     "locked": true,
     "points": 1,
     "schema_version": 3,
     "solution": false,
     "task": false
    },
    "outputId": "9e865424-1419-432d-e03d-2355e959230c"
   },
   "outputs": [
    {
     "name": "stdout",
     "output_type": "stream",
     "text": [
      "\u001b[92m Ok - Tous les tests sont validés.\u001b[00m\n"
     ]
    }
   ],
   "source": [
    "\n",
    "# Ce bloc permet de valider votre code. Vous ne devez pas le modifier.  \n",
    "try:\n",
    "\n",
    "    M = np.array([[-3, 1, 4, 6, 5, 5, 8], [-10, -5, -7, 9, -9, -4, -9], [-10, -1, 9, -2, -2, -6, -1], [-2, 7, 4, -7, -4, 4, -7], [8, 7, -1, 5, 9, -5, -2]])\n",
    "    res = np.array([[-3, 1, 4, 6, 5, 5, 8], [-10, -5, -7, 9, -9, -4, -9], [-10, -1, 9, 16, 16, -6, -1], [16, 7, 4, -7, -4, 4, -7], [8, 7, -1, 5, 9, -5, 16]])\n",
    "    np.testing.assert_array_equal(remplace_val(M),res,err_msg='Exemple de reférence non fonctionnel.')\n",
    "    \n",
    "    \n",
    "except Exception as e: \n",
    "    print(\"\\033[91m {}\\033[00m\" .format('KO - Au moins un test n\\'est pas validé')) \n",
    "    print('Information sur le test non valide:')\n",
    "    print(e)\n",
    "    raise e\n",
    "else:\n",
    "    print(\"\\033[92m {}\\033[00m\" .format('Ok - Tous les tests sont validés.')) \n"
   ]
  },
  {
   "cell_type": "markdown",
   "metadata": {
    "deletable": false,
    "editable": false,
    "id": "flSXwZ_Ybbyh",
    "nbgrader": {
     "cell_type": "markdown",
     "checksum": "93773957b9dd371764fa247c2ea18fba",
     "grade": false,
     "grade_id": "question25-q5-_cell-1afafc817a441db8",
     "locked": true,
     "schema_version": 3,
     "solution": false,
     "task": false
    }
   },
   "source": [
    "Question 19: \n",
    "Écrire une fonction `diagMatrice` qui construit et retourne une matrice carrée de taille $(10,10)$ dont les éléments sont de valeur $2$ exceptés ceux sur la $4$-ème diagonale (bas gauche -> haut droite) qui sont tous à $0$.\n",
    "\n",
    "<span style=\"color:teal\">La matrice à construire :</span> <br>\n",
    "`[[2. 2. 2. 0. 2. 2. 2. 2. 2. 2.]\n",
    " [2. 2. 0. 2. 2. 2. 2. 2. 2. 2.]\n",
    " [2. 0. 2. 2. 2. 2. 2. 2. 2. 2.]\n",
    " [0. 2. 2. 2. 2. 2. 2. 2. 2. 2.]\n",
    " [2. 2. 2. 2. 2. 2. 2. 2. 2. 2.]\n",
    " [2. 2. 2. 2. 2. 2. 2. 2. 2. 2.]\n",
    " [2. 2. 2. 2. 2. 2. 2. 2. 2. 2.]\n",
    " [2. 2. 2. 2. 2. 2. 2. 2. 2. 2.]\n",
    " [2. 2. 2. 2. 2. 2. 2. 2. 2. 2.]\n",
    " [2. 2. 2. 2. 2. 2. 2. 2. 2. 2.]]`\n"
   ]
  },
  {
   "cell_type": "code",
   "execution_count": 86,
   "metadata": {
    "deletable": false,
    "id": "461S4CrGbbyh",
    "nbgrader": {
     "cell_type": "code",
     "checksum": "426c7006e45a3dcae8ce92592c2a60e0",
     "grade": false,
     "grade_id": "question25-q5-_cell-33c99fcb81e7ea5d",
     "locked": false,
     "schema_version": 3,
     "solution": true,
     "task": false
    }
   },
   "outputs": [],
   "source": [
    "def diagMatrice():\n",
    "    res = 2*np.ones((10,10))\n",
    "    res[[3,2,1,0],[0,1,2,3]]=0\n",
    "    return res"
   ]
  },
  {
   "cell_type": "code",
   "execution_count": 87,
   "metadata": {
    "colab": {
     "base_uri": "https://localhost:8080/"
    },
    "deletable": false,
    "editable": false,
    "id": "EpO3sySBbbyh",
    "nbgrader": {
     "cell_type": "code",
     "checksum": "24ca4cf7f0569729a4c054b8d99663c3",
     "grade": true,
     "grade_id": "question25-q5-_cell-23fdcab9c63104bf",
     "locked": true,
     "points": 1,
     "schema_version": 3,
     "solution": false,
     "task": false
    },
    "outputId": "af05ed21-a898-453f-ca1e-a0639af024f8"
   },
   "outputs": [
    {
     "name": "stdout",
     "output_type": "stream",
     "text": [
      "\u001b[92m Ok - Tous les tests sont validés.\u001b[00m\n"
     ]
    }
   ],
   "source": [
    "\n",
    "# Ce bloc permet de valider votre code. Vous ne devez pas le modifier.  \n",
    "try:\n",
    "\n",
    "    mat = diagMatrice()\n",
    "    np.testing.assert_equal(mat.shape,(10,10))\n",
    "    np.testing.assert_almost_equal(np.sum(mat),192)\n",
    "    np.testing.assert_almost_equal(np.diag(mat[:4,3::-1]),0)\n",
    "    \n",
    "except Exception as e: \n",
    "    print(\"\\033[91m {}\\033[00m\" .format('KO - Au moins un test n\\'est pas validé')) \n",
    "    print('Information sur le test non valide:')\n",
    "    print(e)\n",
    "    raise e\n",
    "else:\n",
    "    print(\"\\033[92m {}\\033[00m\" .format('Ok - Tous les tests sont validés.')) \n"
   ]
  },
  {
   "cell_type": "markdown",
   "metadata": {
    "deletable": false,
    "editable": false,
    "id": "q5tCUo6Dbbyh",
    "nbgrader": {
     "cell_type": "markdown",
     "checksum": "a488960e412cc8020173597b651e38f9",
     "grade": false,
     "grade_id": "question27-q7-_cell-ddc72695789c40cb",
     "locked": true,
     "schema_version": 3,
     "solution": false,
     "task": false
    }
   },
   "source": [
    "Question 20: \n",
    "Créez une matrice `mat` de taille (4,3) dont toutes les valeurs sont à 4 sauf la colonne 2 dont les éléments sont tous 0.\n",
    "\n",
    "<span style=\"color:teal\">La matrice à construire :</span> <br>\n",
    "`[[4. 4. 0.]\n",
    " [4. 4. 0.]\n",
    " [4. 4. 0.]\n",
    " [4. 4. 0.]]`\n"
   ]
  },
  {
   "cell_type": "code",
   "execution_count": 88,
   "metadata": {
    "colab": {
     "base_uri": "https://localhost:8080/"
    },
    "deletable": false,
    "id": "riPvrhgrbbyh",
    "nbgrader": {
     "cell_type": "code",
     "checksum": "7eb0ebd35a6638365ba4a358548fe616",
     "grade": false,
     "grade_id": "question27-q7-_cell-99bc3904c4359b73",
     "locked": false,
     "schema_version": 3,
     "solution": true,
     "task": false
    },
    "outputId": "51dfd62c-67fa-4304-fdc5-5c7d0fc37ded"
   },
   "outputs": [
    {
     "name": "stdout",
     "output_type": "stream",
     "text": [
      "[[4. 4. 0.]\n",
      " [4. 4. 0.]\n",
      " [4. 4. 0.]\n",
      " [4. 4. 0.]]\n"
     ]
    }
   ],
   "source": [
    "mat = 4*np.ones((4,3))\n",
    "mat[:,2]=0\n",
    "print(mat)"
   ]
  },
  {
   "cell_type": "code",
   "execution_count": 89,
   "metadata": {
    "colab": {
     "base_uri": "https://localhost:8080/"
    },
    "deletable": false,
    "editable": false,
    "id": "9Tmr5WwVbbyh",
    "nbgrader": {
     "cell_type": "code",
     "checksum": "d9df564cad0cad18279cfe0d2d6841b2",
     "grade": true,
     "grade_id": "question27-q7-_cell-2514c5a8c37957af",
     "locked": true,
     "points": 1,
     "schema_version": 3,
     "solution": false,
     "task": false
    },
    "outputId": "2f143c0d-f7b0-4dc0-dc23-fbc959599b0e"
   },
   "outputs": [
    {
     "name": "stdout",
     "output_type": "stream",
     "text": [
      "\u001b[92m Ok - Tous les tests sont validés.\u001b[00m\n"
     ]
    }
   ],
   "source": [
    "\n",
    "# Ce bloc permet de valider votre code. Vous ne devez pas le modifier.  \n",
    "try:\n",
    "\n",
    "    np.testing.assert_equal(mat.shape,(4,3),err_msg='Attention à la taille')\n",
    "    np.testing.assert_almost_equal(np.sum(mat),4*4*(3-1))\n",
    "    \n",
    "except Exception as e: \n",
    "    print(\"\\033[91m {}\\033[00m\" .format('KO - Au moins un test n\\'est pas validé')) \n",
    "    print('Information sur le test non valide:')\n",
    "    print(e)\n",
    "    raise e\n",
    "else:\n",
    "    print(\"\\033[92m {}\\033[00m\" .format('Ok - Tous les tests sont validés.')) \n"
   ]
  },
  {
   "cell_type": "markdown",
   "metadata": {
    "deletable": false,
    "editable": false,
    "id": "0lTJU6Vpbbyh",
    "nbgrader": {
     "cell_type": "markdown",
     "checksum": "ffaa458a34cf1c27bb90ea2b01683fad",
     "grade": false,
     "grade_id": "question23-q3-_cell-2332f29ec90539de",
     "locked": true,
     "schema_version": 3,
     "solution": false,
     "task": false
    }
   },
   "source": [
    "Question 21: \n",
    "Écrivez une fonction qui prend en entrée une matrice et qui calcule le minimum des éléments des colonnes de $4$ à $7$ (la colonne $7$ étant exclue). \n",
    "\n",
    "<span style=\"color:teal\">Exemple :</span> <br>\n",
    "`[[6 6 3 4 6 4 5 3 4]\n",
    " [3 6 6 3 3 1 6 4 2]\n",
    " [1 3 4 4 2 4 1 1 6]]`\n",
    "\n",
    "a pour sortie\n",
    "\n",
    "`1`\n"
   ]
  },
  {
   "cell_type": "code",
   "execution_count": 90,
   "metadata": {
    "deletable": false,
    "id": "Q7toAKpwbbyh",
    "nbgrader": {
     "cell_type": "code",
     "checksum": "7b32b70e54af21eb498ea47ac64f3205",
     "grade": false,
     "grade_id": "question23-q3-_cell-ab4932abbfaa9586",
     "locked": false,
     "schema_version": 3,
     "solution": true,
     "task": false
    }
   },
   "outputs": [],
   "source": [
    "def amalgame(matrice):\n",
    "    return np.min(matrice[:,[4,5,6]])"
   ]
  },
  {
   "cell_type": "code",
   "execution_count": 91,
   "metadata": {
    "colab": {
     "base_uri": "https://localhost:8080/"
    },
    "deletable": false,
    "editable": false,
    "id": "v4KtuuIvbbyh",
    "nbgrader": {
     "cell_type": "code",
     "checksum": "d670a3f12ffec763b050db7a91b454a8",
     "grade": true,
     "grade_id": "question23-q3-_cell-eb0aff7283690edc",
     "locked": true,
     "points": 1,
     "schema_version": 3,
     "solution": false,
     "task": false
    },
    "outputId": "8d004998-dd75-4c69-ab77-0dc8c59ae3b5"
   },
   "outputs": [
    {
     "name": "stdout",
     "output_type": "stream",
     "text": [
      "\u001b[92m Ok - Tous les tests sont validés.\u001b[00m\n"
     ]
    }
   ],
   "source": [
    "\n",
    "# Ce bloc permet de valider votre code. Vous ne devez pas le modifier.  \n",
    "try:\n",
    " \n",
    "    res = amalgame(np.array([[6, 6, 3, 4, 6, 4, 5, 3, 4], [3, 6, 6, 3, 3, 1, 6, 4, 2], [1, 3, 4, 4, 2, 4, 1, 1, 6]]))\n",
    "    np.testing.assert_almost_equal(res,1)\n",
    "    \n",
    "except Exception as e: \n",
    "    print(\"\\033[91m {}\\033[00m\" .format('KO - Au moins un test n\\'est pas validé')) \n",
    "    print('Information sur le test non valide:')\n",
    "    print(e)\n",
    "    raise e\n",
    "else:\n",
    "    print(\"\\033[92m {}\\033[00m\" .format('Ok - Tous les tests sont validés.')) \n"
   ]
  },
  {
   "cell_type": "markdown",
   "metadata": {
    "deletable": false,
    "editable": false,
    "id": "7nKyYGMDbbyh",
    "nbgrader": {
     "cell_type": "markdown",
     "checksum": "dae2237d6743a002fa4263c9dbda09d1",
     "grade": false,
     "grade_id": "question26-q6-_cell-36be96aa2d948593",
     "locked": true,
     "schema_version": 3,
     "solution": false,
     "task": false
    }
   },
   "source": [
    "Question 22: \n",
    "Créez une matrice `mat` de taille (4,5) dont toutes les valeurs sont à 7 sauf la case (2,3) qui vaut 0.\n",
    "\n",
    "<span style=\"color:teal\">La matrice à construire :</span> <br>\n",
    "`[[7. 7. 7. 7. 7.]\n",
    " [7. 7. 7. 7. 7.]\n",
    " [7. 7. 7. 0. 7.]\n",
    " [7. 7. 7. 7. 7.]]`\n"
   ]
  },
  {
   "cell_type": "code",
   "execution_count": 92,
   "metadata": {
    "colab": {
     "base_uri": "https://localhost:8080/"
    },
    "deletable": false,
    "id": "137cbXqIbbyh",
    "nbgrader": {
     "cell_type": "code",
     "checksum": "fc86cd805bd0c6dd66ea6f71515f144a",
     "grade": false,
     "grade_id": "question26-q6-_cell-c7349586cb3d0b66",
     "locked": false,
     "schema_version": 3,
     "solution": true,
     "task": false
    },
    "outputId": "57121d8b-0860-4bb1-d65e-36c9a1a7dc78"
   },
   "outputs": [
    {
     "name": "stdout",
     "output_type": "stream",
     "text": [
      "[[7. 7. 7. 7. 7.]\n",
      " [7. 7. 7. 7. 7.]\n",
      " [7. 7. 7. 0. 7.]\n",
      " [7. 7. 7. 7. 7.]]\n"
     ]
    }
   ],
   "source": [
    "mat = 7*np.ones((4,5))\n",
    "mat[2,3]=0\n",
    "print(mat)"
   ]
  },
  {
   "cell_type": "code",
   "execution_count": 93,
   "metadata": {
    "colab": {
     "base_uri": "https://localhost:8080/"
    },
    "deletable": false,
    "editable": false,
    "id": "Btx4KJ6Obbyh",
    "nbgrader": {
     "cell_type": "code",
     "checksum": "a4c5631f97b15d62bb39b9de634f6b6c",
     "grade": true,
     "grade_id": "question26-q6-_cell-31eedfda991f1c31",
     "locked": true,
     "points": 1,
     "schema_version": 3,
     "solution": false,
     "task": false
    },
    "outputId": "23952a36-c7bf-4b76-f3b9-caa164413e31"
   },
   "outputs": [
    {
     "name": "stdout",
     "output_type": "stream",
     "text": [
      "\u001b[92m Ok - Tous les tests sont validés.\u001b[00m\n"
     ]
    }
   ],
   "source": [
    "\n",
    "# Ce bloc permet de valider votre code. Vous ne devez pas le modifier.  \n",
    "try:\n",
    "\n",
    "    np.testing.assert_equal(mat.shape,(4,5),err_msg='Attention à la taille')\n",
    "    np.testing.assert_almost_equal(np.sum(mat),7*(4*5-1))\n",
    "    \n",
    "except Exception as e: \n",
    "    print(\"\\033[91m {}\\033[00m\" .format('KO - Au moins un test n\\'est pas validé')) \n",
    "    print('Information sur le test non valide:')\n",
    "    print(e)\n",
    "    raise e\n",
    "else:\n",
    "    print(\"\\033[92m {}\\033[00m\" .format('Ok - Tous les tests sont validés.')) \n"
   ]
  },
  {
   "cell_type": "markdown",
   "metadata": {
    "deletable": false,
    "editable": false,
    "id": "ncsyS7BXbbyh",
    "nbgrader": {
     "cell_type": "markdown",
     "checksum": "46e15873c7a23abbea41107eb5aabf7f",
     "grade": false,
     "grade_id": "question4-q5-_cell-c6a969d304603031",
     "locked": true,
     "schema_version": 3,
     "solution": false,
     "task": false
    }
   },
   "source": [
    "Question 23: \n",
    "Écrivez une fonction qui supprime les colonnes dont le minimum est inférieure ou égale à 1.\n"
   ]
  },
  {
   "cell_type": "code",
   "execution_count": 94,
   "metadata": {
    "deletable": false,
    "id": "Fk4YovIqbbyh",
    "nbgrader": {
     "cell_type": "code",
     "checksum": "f0dc7c9a7b96c258fae9ad7accf5a047",
     "grade": false,
     "grade_id": "question4-q5-_cell-a3e207420c1ca583",
     "locked": false,
     "schema_version": 3,
     "solution": true,
     "task": false
    }
   },
   "outputs": [],
   "source": [
    "def del_colonnes_min(x):\n",
    "    pos = np.where(x<=1)\n",
    "    return np.delete(x, pos[1], axis=1)"
   ]
  },
  {
   "cell_type": "code",
   "execution_count": 95,
   "metadata": {
    "colab": {
     "base_uri": "https://localhost:8080/"
    },
    "deletable": false,
    "editable": false,
    "id": "prMzD7sCbbyh",
    "nbgrader": {
     "cell_type": "code",
     "checksum": "eab78944af85e07da8a845376e732b04",
     "grade": true,
     "grade_id": "question4-q5-_cell-42c7ca01bce893b6",
     "locked": true,
     "points": 1,
     "schema_version": 3,
     "solution": false,
     "task": false
    },
    "outputId": "6e1e33ef-6085-4a5c-9824-b13d9cb9d80a"
   },
   "outputs": [
    {
     "name": "stdout",
     "output_type": "stream",
     "text": [
      "\u001b[92m Ok - Tous les tests sont validés.\u001b[00m\n"
     ]
    }
   ],
   "source": [
    "\n",
    "# Ce bloc permet de valider votre code. Vous ne devez pas le modifier.  \n",
    "try:\n",
    "    \n",
    "    M = np.array([[5, 3, 1, 3, 0, 8, 1], [1, 4, 3, 8, 5, 0, 5], [7, 4, 8, 3, 1, 4, 5], [3, 2, 6, 1, 8, 7, 2], [6, 4, 9, 7, 9, 1, 9]])\n",
    "    res = np.array([[3], [4], [4], [2], [4]])\n",
    "    res_fct = del_colonnes_min(M)\n",
    "    \n",
    "    if len(res)==0:\n",
    "        res = res.reshape(res_fct.shape)\n",
    "    \n",
    "    np.testing.assert_array_equal(res_fct,res,err_msg='Exemple de reférence non fonctionnel.')\n",
    "    \n",
    "except Exception as e: \n",
    "    print(\"\\033[91m {}\\033[00m\" .format('KO - Au moins un test n\\'est pas validé')) \n",
    "    print('Information sur le test non valide:')\n",
    "    print(e)\n",
    "    raise e\n",
    "else:\n",
    "    print(\"\\033[92m {}\\033[00m\" .format('Ok - Tous les tests sont validés.')) \n"
   ]
  },
  {
   "cell_type": "markdown",
   "metadata": {
    "deletable": false,
    "editable": false,
    "id": "dygezxIpbbyh",
    "nbgrader": {
     "cell_type": "markdown",
     "checksum": "b5a8e4ef07c4d4bc87a9e2d654675e89",
     "grade": false,
     "grade_id": "question24-q4-_cell-a09e4148f2523e4c",
     "locked": true,
     "schema_version": 3,
     "solution": false,
     "task": false
    }
   },
   "source": [
    "Question 24: \n",
    "Écrivez une fonction qui prend en entrée une matrice, et qui retourne la sous-matrice de taille $(9,9)$ qui forme le coin en bas à gauche de la matrice.\n",
    "\n",
    "<span style=\"color:teal\"> Exemple</span> <br>\n",
    "une matrice\n",
    "\n",
    "`[[1 2 2 3 5 2 6 1 6 6 2 6 4 6 1 3 5 4 2 5]\n",
    " [3 4 6 1 4 2 1 5 4 6 5 3 3 4 2 1 3 4 4 6]\n",
    " [1 6 3 5 3 2 1 2 1 4 2 2 4 1 6 3 1 2 3 5]\n",
    " [6 4 6 2 5 5 3 2 4 2 2 1 2 6 6 5 6 3 5 4]\n",
    " [5 5 4 2 4 2 2 6 5 5 4 6 4 5 1 6 4 5 2 6]\n",
    " [3 6 2 3 5 4 5 5 1 1 6 3 2 3 5 3 5 2 4 1]\n",
    " [6 2 2 6 3 3 5 3 4 2 2 3 5 1 5 2 5 2 3 2]\n",
    " [5 2 4 6 3 1 1 6 4 4 1 4 3 5 4 6 1 5 5 2]\n",
    " [3 6 2 5 5 1 3 1 6 6 4 5 1 4 2 2 2 3 1 4]\n",
    " [3 6 6 5 1 3 6 4 4 3 4 2 3 1 6 3 3 1 5 3]\n",
    " [1 6 4 6 4 2 1 2 5 6 2 2 6 1 6 6 5 3 2 1]\n",
    " [1 1 6 5 2 3 5 6 6 5 4 2 6 4 2 5 1 2 2 4]\n",
    " [1 5 4 3 5 2 6 6 4 5 4 4 3 5 1 5 5 6 1 4]\n",
    " [2 6 1 6 6 4 1 1 1 1 3 4 4 1 3 3 4 1 5 3]\n",
    " [3 3 1 6 4 2 3 6 1 2 3 4 3 6 2 3 5 3 1 6]\n",
    " [6 1 3 2 6 5 6 4 1 6 4 3 1 1 6 3 3 2 2 1]\n",
    " [3 6 5 2 6 6 4 2 6 4 3 4 5 4 1 2 2 3 2 3]\n",
    " [2 2 6 2 4 4 6 3 4 3 5 5 4 4 4 6 2 5 1 4]\n",
    " [1 1 4 6 6 2 2 2 4 2 5 3 1 6 1 5 5 5 3 3]\n",
    " [2 3 6 1 2 1 3 6 2 3 6 3 2 6 3 5 5 1 5 2]]`\n",
    "\n",
    "coin en bas à gauche :\n",
    "\n",
    "`[[1 1 6 5 2 3 5 6 6]\n",
    " [1 5 4 3 5 2 6 6 4]\n",
    " [2 6 1 6 6 4 1 1 1]\n",
    " [3 3 1 6 4 2 3 6 1]\n",
    " [6 1 3 2 6 5 6 4 1]\n",
    " [3 6 5 2 6 6 4 2 6]\n",
    " [2 2 6 2 4 4 6 3 4]\n",
    " [1 1 4 6 6 2 2 2 4]\n",
    " [2 3 6 1 2 1 3 6 2]]`\n"
   ]
  },
  {
   "cell_type": "code",
   "execution_count": 100,
   "metadata": {},
   "outputs": [],
   "source": [
    "def extraire(matrice):\n",
    "    return matrice[-9:,:9]"
   ]
  },
  {
   "cell_type": "code",
   "execution_count": 101,
   "metadata": {
    "editable": false,
    "id": "jYMb5HBqbbyh",
    "nbgrader": {
     "cell_type": "code",
     "checksum": "84dc8591662cbb03ab24494f7d146448",
     "grade": true,
     "grade_id": "question24-q4-_cell-f0b4443ea0cdd342",
     "locked": true,
     "points": 1,
     "schema_version": 3,
     "solution": false,
     "task": false
    }
   },
   "outputs": [
    {
     "name": "stdout",
     "output_type": "stream",
     "text": [
      "\u001b[92m Ok - Tous les tests sont validés.\u001b[00m\n"
     ]
    }
   ],
   "source": [
    "\n",
    "# Ce bloc permet de valider votre code. Vous ne devez pas le modifier.  \n",
    "try:\n",
    "\n",
    "    matrice = np.random.randint(1,7,size=(20,20))\n",
    "    res = extraire(matrice)\n",
    "    np.testing.assert_equal(res.shape,(9,9))\n",
    "    if 0==0:\n",
    "        np.testing.assert_equal(res[-1,0],matrice[-1,0])\n",
    "    elif 0==1:\n",
    "        np.testing.assert_equal(res[-1,-1],matrice[-1,-1])\n",
    "    else:\n",
    "        np.testing.assert_equal(res[0,-1],matrice[0,-1])\n",
    "    \n",
    "except Exception as e: \n",
    "    print(\"\\033[91m {}\\033[00m\" .format('KO - Au moins un test n\\'est pas validé')) \n",
    "    print('Information sur le test non valide:')\n",
    "    print(e)\n",
    "    raise e\n",
    "else:\n",
    "    print(\"\\033[92m {}\\033[00m\" .format('Ok - Tous les tests sont validés.')) \n"
   ]
  },
  {
   "cell_type": "markdown",
   "metadata": {
    "deletable": false,
    "editable": false,
    "id": "9sr3WrXubbyh",
    "nbgrader": {
     "cell_type": "markdown",
     "checksum": "ffd919b988d02cd41e05bdd282678709",
     "grade": false,
     "grade_id": "question29-q9-_cell-3d4620b5fd684a2f",
     "locked": true,
     "schema_version": 3,
     "solution": false,
     "task": false
    }
   },
   "source": [
    "Question 25: \n",
    "Écrire une fonction qui prend en entrée un vecteur dont la longueur est un multiple de 5,\n",
    "et qui retourne le minimum de chaque séquence de 5 éléments consécutifs.\n",
    "\n",
    "<span style=\"color:teal\">Exemple :</span> <br>\n",
    "`[13  6  4  3 13 12 14 12  8  2 11  6  6 11  4  4  7  3  1 11 12  7  6 11\n",
    " 12  4  4  1  6  2  5 12  0  6  2  8  3  5 13  0 13  9  6 14  8  2 12  6\n",
    "  7  6]`\n",
    "\n",
    "a pour sortie\n",
    "\n",
    "`[3 2 4 1 6 1 0 0 6 2]`\n"
   ]
  },
  {
   "cell_type": "code",
   "execution_count": 74,
   "metadata": {
    "deletable": false,
    "id": "_TX6RE9Gbbyh",
    "nbgrader": {
     "cell_type": "code",
     "checksum": "cc1c7fe3511df3f83d08fc7066f56643",
     "grade": false,
     "grade_id": "question29-q9-_cell-b4e78ec3183a363f",
     "locked": false,
     "schema_version": 3,
     "solution": true,
     "task": false
    }
   },
   "outputs": [],
   "source": [
    "def consecutif(vecteur):\n",
    "    v = vecteur.reshape(-1,5)\n",
    "    return np.min(v, axis=1)"
   ]
  },
  {
   "cell_type": "code",
   "execution_count": 75,
   "metadata": {
    "colab": {
     "base_uri": "https://localhost:8080/",
     "height": 850
    },
    "deletable": false,
    "editable": false,
    "id": "XpghhwGybbyi",
    "nbgrader": {
     "cell_type": "code",
     "checksum": "228bb34441d2325dca67febbdcf274cc",
     "grade": true,
     "grade_id": "question29-q9-_cell-1f7a906020f9aba5",
     "locked": true,
     "points": 1,
     "schema_version": 3,
     "solution": false,
     "task": false
    },
    "outputId": "a2bf9e0a-fd50-4476-effd-824a2eaa0297"
   },
   "outputs": [
    {
     "name": "stdout",
     "output_type": "stream",
     "text": [
      "\u001b[92m Ok - Tous les tests sont validés.\u001b[00m\n"
     ]
    }
   ],
   "source": [
    "\n",
    "# Ce bloc permet de valider votre code. Vous ne devez pas le modifier.  \n",
    "try:\n",
    "\n",
    "    vv = np.random.randint(1,15,8*5)\n",
    "    res = consecutif(vv)\n",
    "    np.testing.assert_equal(len(vv),5*len(res))\n",
    "    np.testing.assert_equal(res[2:],consecutif(vv[(2*5):]))\n",
    "    \n",
    "except Exception as e: \n",
    "    print(\"\\033[91m {}\\033[00m\" .format('KO - Au moins un test n\\'est pas validé')) \n",
    "    print('Information sur le test non valide:')\n",
    "    print(e)\n",
    "    raise e\n",
    "else:\n",
    "    print(\"\\033[92m {}\\033[00m\" .format('Ok - Tous les tests sont validés.')) \n"
   ]
  },
  {
   "cell_type": "markdown",
   "metadata": {
    "deletable": false,
    "editable": false,
    "id": "FHre_Eywbbyi",
    "nbgrader": {
     "cell_type": "markdown",
     "checksum": "7a3e27bb04e5d67d6eb58bc560809a26",
     "grade": false,
     "grade_id": "question6-q7-_cell-85ed7fc8e50efa2d",
     "locked": true,
     "schema_version": 3,
     "solution": false,
     "task": false
    }
   },
   "source": [
    "Question 26: Ecrivez une fonction qui réorganise les dimensions d'un tableau de 5 dimensions comme suit: \n",
    "- La 4ème dimension est déplacée en première position \n",
    "- La 3ème dimension est déplacée en 2ème position \n",
    "- La 2ème dimension est déplacée en 3ème position \n",
    "- La 5ème dimension est déplacée en 4ème position \n",
    "- La première dimension est déplacée en 5ème position \n"
   ]
  },
  {
   "cell_type": "code",
   "execution_count": 66,
   "metadata": {
    "deletable": false,
    "id": "kWQqcr5ubbyi",
    "nbgrader": {
     "cell_type": "code",
     "checksum": "8bec8ef9d54bc790d448c6c25e48d536",
     "grade": false,
     "grade_id": "question6-q7-_cell-90435c75c1935d39",
     "locked": false,
     "schema_version": 3,
     "solution": true,
     "task": false
    }
   },
   "outputs": [],
   "source": [
    "def echanger_dim(x):\n",
    "    return np.transpose(x, (3, 2, 1, 4, 0))"
   ]
  },
  {
   "cell_type": "code",
   "execution_count": 67,
   "metadata": {
    "colab": {
     "base_uri": "https://localhost:8080/"
    },
    "deletable": false,
    "editable": false,
    "id": "Kqx9ri8Ybbyi",
    "nbgrader": {
     "cell_type": "code",
     "checksum": "876b67ef5c546c2d0ad2d31f59a0e779",
     "grade": true,
     "grade_id": "question6-q7-_cell-c5a3d94e46747a59",
     "locked": true,
     "points": 1,
     "schema_version": 3,
     "solution": false,
     "task": false
    },
    "outputId": "a8b65d77-4837-48be-cd9f-edb59c1a51fc"
   },
   "outputs": [
    {
     "name": "stdout",
     "output_type": "stream",
     "text": [
      "\u001b[92m Ok - Tous les tests sont validés.\u001b[00m\n"
     ]
    }
   ],
   "source": [
    "\n",
    "# Ce bloc permet de valider votre code. Vous ne devez pas le modifier.  \n",
    "try:\n",
    "\n",
    "    M = np.array([[[[[7, 0, 5, 4, 8, 6], [0, 7, 7, 2, 5, 1], [1, 7, 4, 1, 3, 2], [0, 8, 2, 0, 5, 2], [2, 6, 1, 4, 1, 1]], [[3, 6, 8, 3, 5, 7], [8, 3, 1, 8, 0, 4], [0, 3, 5, 2, 3, 8], [4, 5, 2, 8, 7, 1], [2, 2, 6, 1, 6, 7]], [[5, 1, 7, 3, 6, 2], [7, 3, 8, 4, 3, 7], [1, 0, 6, 3, 7, 7], [3, 4, 1, 8, 2, 3], [6, 2, 0, 5, 6, 5]], [[6, 6, 7, 3, 3, 7], [0, 6, 6, 3, 5, 3], [8, 7, 1, 1, 1, 2], [5, 4, 4, 4, 2, 2], [5, 3, 7, 7, 5, 4]]], [[[3, 4, 7, 6, 4, 7], [5, 2, 5, 7, 7, 0], [2, 7, 2, 8, 6, 4], [6, 4, 0, 1, 0, 5], [4, 7, 6, 8, 5, 1]], [[5, 7, 7, 7, 3, 2], [0, 1, 1, 1, 4, 7], [8, 5, 0, 4, 8, 4], [3, 6, 7, 5, 3, 0], [6, 5, 0, 7, 0, 6]], [[2, 6, 4, 6, 0, 3], [4, 7, 3, 7, 8, 2], [4, 6, 6, 3, 5, 2], [4, 7, 1, 4, 7, 0], [2, 8, 8, 3, 1, 8]], [[2, 0, 8, 6, 7, 0], [1, 0, 5, 7, 3, 8], [3, 2, 0, 1, 4, 3], [6, 6, 8, 3, 1, 6], [4, 2, 0, 4, 3, 4]]], [[[3, 4, 3, 8, 3, 7], [8, 6, 6, 7, 4, 4], [5, 8, 0, 3, 2, 6], [3, 3, 1, 8, 8, 4], [8, 8, 3, 4, 3, 1]], [[2, 4, 8, 3, 5, 8], [8, 3, 3, 2, 5, 5], [5, 3, 1, 2, 0, 2], [7, 2, 0, 8, 0, 5], [0, 3, 4, 6, 7, 6]], [[3, 3, 4, 2, 0, 7], [8, 3, 0, 2, 1, 7], [3, 6, 5, 8, 1, 0], [8, 5, 3, 0, 3, 8], [2, 6, 2, 7, 1, 5]], [[8, 8, 7, 6, 3, 2], [2, 2, 0, 6, 7, 3], [6, 2, 2, 8, 8, 1], [7, 7, 1, 5, 0, 2], [2, 4, 4, 0, 3, 5]]]], [[[[8, 4, 3, 8, 3, 7], [8, 2, 7, 1, 1, 6], [2, 2, 7, 5, 6, 2], [8, 0, 4, 1, 3, 6], [1, 8, 8, 1, 3, 5]], [[6, 6, 2, 4, 7, 7], [5, 3, 8, 4, 5, 6], [0, 5, 4, 4, 7, 3], [1, 4, 0, 6, 3, 2], [7, 1, 0, 6, 6, 8]], [[7, 2, 7, 7, 6, 5], [7, 7, 2, 2, 5, 7], [8, 6, 8, 6, 5, 8], [1, 2, 5, 5, 5, 1], [3, 8, 8, 4, 8, 4]], [[0, 8, 8, 0, 3, 0], [0, 0, 1, 5, 1, 3], [2, 2, 1, 1, 8, 6], [8, 6, 2, 0, 7, 6], [1, 8, 1, 3, 2, 4]]], [[[7, 4, 1, 5, 1, 2], [0, 0, 6, 0, 1, 1], [1, 3, 5, 5, 0, 6], [0, 1, 8, 0, 1, 2], [3, 6, 2, 0, 2, 3]], [[4, 5, 1, 8, 8, 8], [2, 5, 2, 8, 2, 5], [4, 8, 2, 7, 6, 6], [8, 0, 6, 5, 3, 8], [7, 1, 7, 3, 5, 1]], [[3, 4, 0, 1, 6, 1], [4, 5, 7, 7, 3, 6], [6, 6, 7, 6, 3, 3], [4, 2, 7, 2, 8, 4], [2, 0, 4, 4, 5, 3]], [[5, 6, 4, 0, 4, 8], [1, 5, 3, 0, 3, 7], [4, 6, 8, 2, 6, 5], [8, 5, 1, 1, 6, 8], [7, 4, 0, 5, 1, 1]]], [[[4, 8, 3, 7, 4, 4], [3, 0, 4, 4, 1, 0], [1, 0, 4, 0, 7, 1], [0, 6, 8, 7, 6, 5], [2, 2, 1, 6, 1, 2]], [[1, 5, 8, 1, 2, 8], [2, 3, 5, 3, 7, 2], [3, 7, 8, 4, 2, 2], [6, 1, 5, 6, 8, 6], [2, 6, 7, 3, 8, 4]], [[1, 2, 8, 2, 3, 4], [4, 3, 6, 1, 6, 4], [1, 5, 0, 7, 7, 7], [1, 5, 7, 5, 7, 3], [4, 6, 4, 3, 3, 5]], [[1, 3, 6, 1, 4, 1], [2, 3, 6, 5, 7, 1], [7, 6, 2, 1, 2, 1], [2, 1, 4, 7, 7, 7], [5, 3, 8, 2, 2, 4]]]]])\n",
    "    res = np.array([[[[[7, 8], [0, 4], [5, 3], [4, 8], [8, 3], [6, 7]], [[3, 7], [4, 4], [7, 1], [6, 5], [4, 1], [7, 2]], [[3, 4], [4, 8], [3, 3], [8, 7], [3, 4], [7, 4]]], [[[3, 6], [6, 6], [8, 2], [3, 4], [5, 7], [7, 7]], [[5, 4], [7, 5], [7, 1], [7, 8], [3, 8], [2, 8]], [[2, 1], [4, 5], [8, 8], [3, 1], [5, 2], [8, 8]]], [[[5, 7], [1, 2], [7, 7], [3, 7], [6, 6], [2, 5]], [[2, 3], [6, 4], [4, 0], [6, 1], [0, 6], [3, 1]], [[3, 1], [3, 2], [4, 8], [2, 2], [0, 3], [7, 4]]], [[[6, 0], [6, 8], [7, 8], [3, 0], [3, 3], [7, 0]], [[2, 5], [0, 6], [8, 4], [6, 0], [7, 4], [0, 8]], [[8, 1], [8, 3], [7, 6], [6, 1], [3, 4], [2, 1]]]], [[[[0, 8], [7, 2], [7, 7], [2, 1], [5, 1], [1, 6]], [[5, 0], [2, 0], [5, 6], [7, 0], [7, 1], [0, 1]], [[8, 3], [6, 0], [6, 4], [7, 4], [4, 1], [4, 0]]], [[[8, 5], [3, 3], [1, 8], [8, 4], [0, 5], [4, 6]], [[0, 2], [1, 5], [1, 2], [1, 8], [4, 2], [7, 5]], [[8, 2], [3, 3], [3, 5], [2, 3], [5, 7], [5, 2]]], [[[7, 7], [3, 7], [8, 2], [4, 2], [3, 5], [7, 7]], [[4, 4], [7, 5], [3, 7], [7, 7], [8, 3], [2, 6]], [[8, 4], [3, 3], [0, 6], [2, 1], [1, 6], [7, 4]]], [[[0, 0], [6, 0], [6, 1], [3, 5], [5, 1], [3, 3]], [[1, 1], [0, 5], [5, 3], [7, 0], [3, 3], [8, 7]], [[2, 2], [2, 3], [0, 6], [6, 5], [7, 7], [3, 1]]]], [[[[1, 2], [7, 2], [4, 7], [1, 5], [3, 6], [2, 2]], [[2, 1], [7, 3], [2, 5], [8, 5], [6, 0], [4, 6]], [[5, 1], [8, 0], [0, 4], [3, 0], [2, 7], [6, 1]]], [[[0, 0], [3, 5], [5, 4], [2, 4], [3, 7], [8, 3]], [[8, 4], [5, 8], [0, 2], [4, 7], [8, 6], [4, 6]], [[5, 3], [3, 7], [1, 8], [2, 4], [0, 2], [2, 2]]], [[[1, 8], [0, 6], [6, 8], [3, 6], [7, 5], [7, 8]], [[4, 6], [6, 6], [6, 7], [3, 6], [5, 3], [2, 3]], [[3, 1], [6, 5], [5, 0], [8, 7], [1, 7], [0, 7]]], [[[8, 2], [7, 2], [1, 1], [1, 1], [1, 8], [2, 6]], [[3, 4], [2, 6], [0, 8], [1, 2], [4, 6], [3, 5]], [[6, 7], [2, 6], [2, 2], [8, 1], [8, 2], [1, 1]]]], [[[[0, 8], [8, 0], [2, 4], [0, 1], [5, 3], [2, 6]], [[6, 0], [4, 1], [0, 8], [1, 0], [0, 1], [5, 2]], [[3, 0], [3, 6], [1, 8], [8, 7], [8, 6], [4, 5]]], [[[4, 1], [5, 4], [2, 0], [8, 6], [7, 3], [1, 2]], [[3, 8], [6, 0], [7, 6], [5, 5], [3, 3], [0, 8]], [[7, 6], [2, 1], [0, 5], [8, 6], [0, 8], [5, 6]]], [[[3, 1], [4, 2], [1, 5], [8, 5], [2, 5], [3, 1]], [[4, 4], [7, 2], [1, 7], [4, 2], [7, 8], [0, 4]], [[8, 1], [5, 5], [3, 7], [0, 5], [3, 7], [8, 3]]], [[[5, 8], [4, 6], [4, 2], [4, 0], [2, 7], [2, 6]], [[6, 8], [6, 5], [8, 1], [3, 1], [1, 6], [6, 8]], [[7, 2], [7, 1], [1, 4], [5, 7], [0, 7], [2, 7]]]], [[[[2, 1], [6, 8], [1, 8], [4, 1], [1, 3], [1, 5]], [[4, 3], [7, 6], [6, 2], [8, 0], [5, 2], [1, 3]], [[8, 2], [8, 2], [3, 1], [4, 6], [3, 1], [1, 2]]], [[[2, 7], [2, 1], [6, 0], [1, 6], [6, 6], [7, 8]], [[6, 7], [5, 1], [0, 7], [7, 3], [0, 5], [6, 1]], [[0, 2], [3, 6], [4, 7], [6, 3], [7, 8], [6, 4]]], [[[6, 3], [2, 8], [0, 8], [5, 4], [6, 8], [5, 4]], [[2, 2], [8, 0], [8, 4], [3, 4], [1, 5], [8, 3]], [[2, 4], [6, 6], [2, 4], [7, 3], [1, 3], [5, 5]]], [[[5, 1], [3, 8], [7, 1], [7, 3], [5, 2], [4, 4]], [[4, 7], [2, 4], [0, 0], [4, 5], [3, 1], [4, 1]], [[2, 5], [4, 3], [4, 8], [0, 2], [3, 2], [5, 4]]]]])\n",
    "    np.testing.assert_array_equal(echanger_dim(M),res,err_msg='Exemple de reférence non fonctionnel.')\n",
    "    \n",
    "except Exception as e: \n",
    "    print(\"\\033[91m {}\\033[00m\" .format('KO - Au moins un test n\\'est pas validé')) \n",
    "    print('Information sur le test non valide:')\n",
    "    print(e)\n",
    "    raise e\n",
    "else:\n",
    "    print(\"\\033[92m {}\\033[00m\" .format('Ok - Tous les tests sont validés.')) \n"
   ]
  },
  {
   "cell_type": "markdown",
   "metadata": {
    "deletable": false,
    "editable": false,
    "id": "g4iTfv2Ibbyi",
    "nbgrader": {
     "cell_type": "markdown",
     "checksum": "32d7b4669cbcb810bed3a83945e3ed9a",
     "grade": false,
     "grade_id": "question17-q15-_cell-85678745fd62f19e",
     "locked": true,
     "schema_version": 3,
     "solution": false,
     "task": false
    }
   },
   "source": [
    "Question 27: \n",
    "Écrivez une fonction qui prend en entrée une matrice de taille $(6,8)$ et qui \n",
    "ajoute $2$ aux colonnes $0, 1, 2, 3, 4, 5$ .\n",
    "\n",
    "<span style=\"color:teal\">Exemple :</span> <br>\n",
    "Sur l'entrée\n",
    "`[[2 2 7 7 2 4 7 5]\n",
    " [5 3 2 6 7 7 4 6]\n",
    " [4 5 4 3 6 6 3 3]\n",
    " [7 4 7 4 5 4 5 6]\n",
    " [7 4 3 3 3 5 2 5]\n",
    " [3 3 3 5 5 5 4 6]]`\n",
    "\n",
    "la fonction a pour sortie\n",
    "`[[4 4 9 9 4 6 7 5]\n",
    " [7 5 4 8 9 9 4 6]\n",
    " [6 7 6 5 8 8 3 3]\n",
    " [9 6 9 6 7 6 5 6]\n",
    " [9 6 5 5 5 7 2 5]\n",
    " [5 5 5 7 7 7 4 6]]`\n"
   ]
  },
  {
   "cell_type": "code",
   "execution_count": 64,
   "metadata": {
    "deletable": false,
    "id": "rm2rEbhnbbyi",
    "nbgrader": {
     "cell_type": "code",
     "checksum": "578b4ab82f56cb65f001bd731d198d7b",
     "grade": false,
     "grade_id": "question17-q15-_cell-b25cd2a35930b421",
     "locked": false,
     "schema_version": 3,
     "solution": true,
     "task": false
    }
   },
   "outputs": [],
   "source": [
    "def modifColonnes(matrice):\n",
    "    matrice[:,[0,1,2,3,4,5]] += 2\n",
    "    return matrice"
   ]
  },
  {
   "cell_type": "code",
   "execution_count": 65,
   "metadata": {
    "colab": {
     "base_uri": "https://localhost:8080/"
    },
    "deletable": false,
    "editable": false,
    "id": "WuTNlB5-bbyi",
    "nbgrader": {
     "cell_type": "code",
     "checksum": "80d9bb9e7536532e3223406daa50d5c3",
     "grade": true,
     "grade_id": "question17-q15-_cell-de2df9eb2978ce0e",
     "locked": true,
     "points": 1,
     "schema_version": 3,
     "solution": false,
     "task": false
    },
    "outputId": "1b0f2a14-4ace-403a-b34d-eef110783f6f"
   },
   "outputs": [
    {
     "name": "stdout",
     "output_type": "stream",
     "text": [
      "\u001b[92m Ok - Tous les tests sont validés.\u001b[00m\n"
     ]
    }
   ],
   "source": [
    "\n",
    "# Ce bloc permet de valider votre code. Vous ne devez pas le modifier.  \n",
    "try:\n",
    "\n",
    "    m = np.array([[2, 2, 7, 7, 2, 4, 7, 5], [5, 3, 2, 6, 7, 7, 4, 6], [4, 5, 4, 3, 6, 6, 3, 3], [7, 4, 7, 4, 5, 4, 5, 6], [7, 4, 3, 3, 3, 5, 2, 5], [3, 3, 3, 5, 5, 5, 4, 6]])\n",
    "    res = modifColonnes(m.copy())\n",
    "    np.testing.assert_almost_equal(res,np.array([[4, 4, 9, 9, 4, 6, 7, 5], [7, 5, 4, 8, 9, 9, 4, 6], [6, 7, 6, 5, 8, 8, 3, 3], [9, 6, 9, 6, 7, 6, 5, 6], [9, 6, 5, 5, 5, 7, 2, 5], [5, 5, 5, 7, 7, 7, 4, 6]]))\n",
    "    mat = np.random.randint(2,8,size=(6,8)); res = modifColonnes(mat.copy())\n",
    "    np.testing.assert_equal(res.shape,mat.shape)\n",
    "    \n",
    "except Exception as e: \n",
    "    print(\"\\033[91m {}\\033[00m\" .format('KO - Au moins un test n\\'est pas validé')) \n",
    "    print('Information sur le test non valide:')\n",
    "    print(e)\n",
    "    raise e\n",
    "else:\n",
    "    print(\"\\033[92m {}\\033[00m\" .format('Ok - Tous les tests sont validés.')) \n"
   ]
  },
  {
   "cell_type": "markdown",
   "metadata": {
    "deletable": false,
    "editable": false,
    "id": "aBk1KT1ubbyi",
    "nbgrader": {
     "cell_type": "markdown",
     "checksum": "5a22c82fcda1aa61c047b65f4a99229c",
     "grade": false,
     "grade_id": "question3-q4-_cell-37e9341070848d27",
     "locked": true,
     "schema_version": 3,
     "solution": false,
     "task": false
    }
   },
   "source": [
    "Question 28: \n",
    "Ecrivez une fonction gardant une colonne sur 5 d'un tableau numpy donné en partant de la colonne 1. \n"
   ]
  },
  {
   "cell_type": "code",
   "execution_count": 62,
   "metadata": {
    "deletable": false,
    "id": "zKR-jRXsbbyi",
    "nbgrader": {
     "cell_type": "code",
     "checksum": "df5c6f2ddb29ad13c36b7f6ec3ab717e",
     "grade": false,
     "grade_id": "question3-q4-_cell-93d3917f61cb802d",
     "locked": false,
     "schema_version": 3,
     "solution": true,
     "task": false
    }
   },
   "outputs": [],
   "source": [
    "def reduce(x):\n",
    "    return x[:,1:-1:5]"
   ]
  },
  {
   "cell_type": "code",
   "execution_count": 63,
   "metadata": {
    "colab": {
     "base_uri": "https://localhost:8080/"
    },
    "deletable": false,
    "editable": false,
    "id": "eIjeWJpZbbyi",
    "nbgrader": {
     "cell_type": "code",
     "checksum": "1e74a74bb866ac8f21cba0a293bb2c0b",
     "grade": true,
     "grade_id": "question3-q4-_cell-1dabca67497d1a44",
     "locked": true,
     "points": 1,
     "schema_version": 3,
     "solution": false,
     "task": false
    },
    "outputId": "7e07904a-4b22-4090-ef75-06ec67f5f016"
   },
   "outputs": [
    {
     "name": "stdout",
     "output_type": "stream",
     "text": [
      "\u001b[92m Ok - Tous les tests sont validés.\u001b[00m\n"
     ]
    }
   ],
   "source": [
    "\n",
    "# Ce bloc permet de valider votre code. Vous ne devez pas le modifier.  \n",
    "try:\n",
    "\n",
    "    M = np.array([[8, 7, 9, 0, 3, 4, 1, 2, 5, 7, 0, 1, 6, 0, 0], [1, 8, 4, 1, 3, 4, 6, 8, 4, 2, 0, 1, 3, 8, 7], [4, 4, 6, 3, 9, 0, 1, 6, 8, 4, 6, 2, 1, 2, 3], [7, 5, 0, 1, 8, 9, 4, 1, 4, 1, 5, 0, 3, 5, 8], [0, 9, 5, 0, 7, 7, 0, 1, 1, 1, 0, 1, 5, 8, 5], [9, 2, 3, 5, 3, 5, 5, 6, 8, 0, 8, 0, 5, 4, 8], [2, 4, 4, 7, 8, 3, 8, 9, 6, 9, 9, 4, 5, 2, 9], [9, 7, 9, 2, 0, 7, 4, 5, 5, 0, 4, 2, 0, 5, 4], [5, 6, 2, 6, 6, 4, 2, 3, 1, 6, 6, 4, 0, 3, 2], [0, 1, 4, 6, 7, 1, 5, 7, 5, 3, 6, 6, 8, 6, 5], [5, 2, 9, 1, 1, 8, 8, 7, 7, 1, 6, 3, 3, 1, 8], [8, 4, 0, 5, 9, 8, 4, 1, 6, 9, 3, 8, 2, 6, 6], [8, 2, 6, 6, 4, 2, 6, 6, 7, 2, 3, 9, 5, 2, 2], [5, 8, 3, 5, 0, 5, 6, 7, 6, 3, 2, 2, 6, 8, 6], [1, 9, 0, 8, 9, 2, 1, 7, 2, 1, 1, 8, 6, 8, 3], [7, 5, 5, 3, 9, 6, 0, 0, 6, 7, 2, 7, 8, 0, 2], [3, 3, 8, 0, 7, 1, 0, 1, 8, 6, 0, 7, 1, 5, 1], [5, 1, 2, 0, 2, 9, 8, 1, 1, 5, 6, 1, 7, 9, 1], [7, 7, 0, 2, 3, 3, 4, 1, 2, 4, 9, 4, 5, 6, 7], [5, 2, 8, 5, 6, 5, 7, 7, 8, 9, 4, 6, 9, 6, 9], [3, 5, 8, 8, 8, 1, 6, 7, 7, 5, 1, 2, 9, 9, 2], [3, 4, 2, 1, 8, 2, 0, 1, 1, 4, 8, 0, 0, 8, 1], [2, 3, 8, 3, 1, 8, 3, 4, 8, 4, 7, 8, 8, 7, 5], [8, 7, 2, 4, 5, 2, 3, 5, 4, 6, 0, 2, 5, 9, 1], [6, 0, 2, 5, 5, 3, 5, 0, 0, 8, 9, 7, 3, 7, 7]])\n",
    "    res = np.array([[7, 1, 1], [8, 6, 1], [4, 1, 2], [5, 4, 0], [9, 0, 1], [2, 5, 0], [4, 8, 4], [7, 4, 2], [6, 2, 4], [1, 5, 6], [2, 8, 3], [4, 4, 8], [2, 6, 9], [8, 6, 2], [9, 1, 8], [5, 0, 7], [3, 0, 7], [1, 8, 1], [7, 4, 4], [2, 7, 6], [5, 6, 2], [4, 0, 0], [3, 3, 8], [7, 3, 2], [0, 5, 7]])\n",
    "    np.testing.assert_array_equal(reduce(M),res,err_msg='Exemple de reférence non fonctionnel.')\n",
    "    \n",
    "except Exception as e: \n",
    "    print(\"\\033[91m {}\\033[00m\" .format('KO - Au moins un test n\\'est pas validé')) \n",
    "    print('Information sur le test non valide:')\n",
    "    print(e)\n",
    "    raise e\n",
    "else:\n",
    "    print(\"\\033[92m {}\\033[00m\" .format('Ok - Tous les tests sont validés.')) \n"
   ]
  },
  {
   "cell_type": "markdown",
   "metadata": {
    "deletable": false,
    "editable": false,
    "id": "RaOEtsEObbyi",
    "nbgrader": {
     "cell_type": "markdown",
     "checksum": "faf60aecd70654d8e5db2b4b73f17410",
     "grade": false,
     "grade_id": "question13-q11-_cell-b2d473d10a2a40d2",
     "locked": true,
     "schema_version": 3,
     "solution": false,
     "task": false
    }
   },
   "source": [
    "Question 29: \n",
    "Écrire une fonction qui prend en entrée une matrice `m` et une valeur `v`, et qui retourne le nombre de colonnes de `m` qui contiennent la valeur `v` \n",
    "\n",
    "<span style=\"color:teal\">Exemple :</span> <br>\n",
    "Avec la matrice\n",
    "`[[ 1 23  6  0 15 11  0 15]\n",
    " [ 6 13 19  0  7  8  6 23]\n",
    " [ 8  4  6  3 18  8 12  0]\n",
    " [15  5  6  9 14  6  5  0]\n",
    " [12 19  7  1 10  3  7 15]]`\n",
    "\n",
    "et la valeur`12`\n",
    "\n",
    "la fonction retourne `2`\n"
   ]
  },
  {
   "cell_type": "code",
   "execution_count": 60,
   "metadata": {
    "deletable": false,
    "id": "2_lb5vpnbbyi",
    "nbgrader": {
     "cell_type": "code",
     "checksum": "7480fc0cf1553a529cb1c22c6687f556",
     "grade": false,
     "grade_id": "question13-q11-_cell-193674689f12fe9e",
     "locked": false,
     "schema_version": 3,
     "solution": true,
     "task": false
    }
   },
   "outputs": [],
   "source": [
    "def compte(matrice,valeur):\n",
    "    res = np.count_nonzero(np.sum(matrice == 2, axis=0))\n",
    "    return res"
   ]
  },
  {
   "cell_type": "code",
   "execution_count": 61,
   "metadata": {
    "colab": {
     "base_uri": "https://localhost:8080/"
    },
    "deletable": false,
    "editable": false,
    "id": "Dpyph_FXbbyi",
    "nbgrader": {
     "cell_type": "code",
     "checksum": "228909fdc1408bdedcd8af48cddb9099",
     "grade": true,
     "grade_id": "question13-q11-_cell-d86506e30906ff3b",
     "locked": true,
     "points": 1,
     "schema_version": 3,
     "solution": false,
     "task": false
    },
    "outputId": "d59308a2-58ed-414a-bf1a-ce4116f2ed2a"
   },
   "outputs": [
    {
     "name": "stdout",
     "output_type": "stream",
     "text": [
      "\u001b[92m Ok - Tous les tests sont validés.\u001b[00m\n"
     ]
    }
   ],
   "source": [
    "\n",
    "# Ce bloc permet de valider votre code. Vous ne devez pas le modifier.  \n",
    "try:\n",
    "\n",
    "    c = compte(np.tile(np.arange(25).reshape((5,5)),(3,2)),3)\n",
    "    np.testing.assert_equal(c,2)\n",
    "    \n",
    "except Exception as e: \n",
    "    print(\"\\033[91m {}\\033[00m\" .format('KO - Au moins un test n\\'est pas validé')) \n",
    "    print('Information sur le test non valide:')\n",
    "    print(e)\n",
    "    raise e\n",
    "else:\n",
    "    print(\"\\033[92m {}\\033[00m\" .format('Ok - Tous les tests sont validés.')) \n"
   ]
  },
  {
   "cell_type": "markdown",
   "metadata": {
    "deletable": false,
    "editable": false,
    "id": "xhMZ9a9dbbyi",
    "nbgrader": {
     "cell_type": "markdown",
     "checksum": "e03d97a92bbe1d5b200f51ec617baf1c",
     "grade": false,
     "grade_id": "question7-q8-_cell-62c6e2d53a59bd4e",
     "locked": true,
     "schema_version": 3,
     "solution": false,
     "task": false
    }
   },
   "source": [
    "Question 30: Ecrivez une fonction qui réorganise les colonne d'un tableau 6x6 comme suit: \n",
    "- La 4ème colonne est déplacée en première position \n",
    "- La 5ème colonne est déplacée en 2ème position \n",
    "- La 6ème colonne est déplacée en 3ème position \n",
    "- La 2ème colonne est déplacée en 4ème position \n",
    "- La première colonne est déplacée en 5ème position \n",
    "- La 3ème colonne est déplacée en 6ème position \n"
   ]
  },
  {
   "cell_type": "code",
   "execution_count": 58,
   "metadata": {
    "deletable": false,
    "id": "gxx0WSZ1bbyi",
    "nbgrader": {
     "cell_type": "code",
     "checksum": "d16afc83e2ba2e509e523139891cabcb",
     "grade": false,
     "grade_id": "question7-q8-_cell-72a899b4472bd4c9",
     "locked": false,
     "schema_version": 3,
     "solution": true,
     "task": false
    }
   },
   "outputs": [],
   "source": [
    "def echanger_colonne(x):\n",
    "    x[:,[0,1,2,3,4,5]] = x[:,[3,4,5,1,0,2]] \n",
    "    return x\n"
   ]
  },
  {
   "cell_type": "code",
   "execution_count": 59,
   "metadata": {
    "colab": {
     "base_uri": "https://localhost:8080/"
    },
    "deletable": false,
    "editable": false,
    "id": "edVNwgwfbbyi",
    "nbgrader": {
     "cell_type": "code",
     "checksum": "4f8fea50b462e47b36a45f767488c49c",
     "grade": true,
     "grade_id": "question7-q8-_cell-579cfbfeaabdc52f",
     "locked": true,
     "points": 1,
     "schema_version": 3,
     "solution": false,
     "task": false
    },
    "outputId": "b9333e26-bfca-46e0-d6ed-ea557128af05"
   },
   "outputs": [
    {
     "name": "stdout",
     "output_type": "stream",
     "text": [
      "\u001b[92m Ok - Tous les tests sont validés.\u001b[00m\n"
     ]
    }
   ],
   "source": [
    "\n",
    "# Ce bloc permet de valider votre code. Vous ne devez pas le modifier.  \n",
    "try:\n",
    "\n",
    "    M = np.array([[3, 1, 8, 0, 4, 6], [0, 1, 2, 7, 7, 7], [6, 7, 2, 3, 5, 8], [1, 3, 3, 3, 0, 7], [6, 2, 8, 1, 7, 6], [6, 6, 7, 4, 4, 7]])\n",
    "    res = np.array([[0, 4, 6, 1, 3, 8], [7, 7, 7, 1, 0, 2], [3, 5, 8, 7, 6, 2], [3, 0, 7, 3, 1, 3], [1, 7, 6, 2, 6, 8], [4, 4, 7, 6, 6, 7]])\n",
    "    np.testing.assert_array_equal(echanger_colonne(M),res,err_msg='Exemple de reférence non fonctionnel.')\n",
    "    \n",
    "except Exception as e: \n",
    "    print(\"\\033[91m {}\\033[00m\" .format('KO - Au moins un test n\\'est pas validé')) \n",
    "    print('Information sur le test non valide:')\n",
    "    print(e)\n",
    "    raise e\n",
    "else:\n",
    "    print(\"\\033[92m {}\\033[00m\" .format('Ok - Tous les tests sont validés.')) \n"
   ]
  }
 ],
 "metadata": {
  "colab": {
   "collapsed_sections": [],
   "name": "examen_CS_2020_tp_note.ipynb",
   "provenance": []
  },
  "id_notebook": "ede12c5c168986e",
  "kernelspec": {
   "display_name": "Python 3",
   "language": "python",
   "name": "python3"
  },
  "language_info": {
   "codemirror_mode": {
    "name": "ipython",
    "version": 3
   },
   "file_extension": ".py",
   "mimetype": "text/x-python",
   "name": "python",
   "nbconvert_exporter": "python",
   "pygments_lexer": "ipython3",
   "version": "3.6.9"
  }
 },
 "nbformat": 4,
 "nbformat_minor": 1
}
